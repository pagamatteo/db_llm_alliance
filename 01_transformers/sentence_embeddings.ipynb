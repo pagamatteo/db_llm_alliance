{
  "nbformat": 4,
  "nbformat_minor": 0,
  "metadata": {
    "kernelspec": {
      "display_name": "Python 3",
      "language": "python",
      "name": "python3"
    },
    "language_info": {
      "codemirror_mode": {
        "name": "ipython",
        "version": 3
      },
      "file_extension": ".py",
      "mimetype": "text/x-python",
      "name": "python",
      "nbconvert_exporter": "python",
      "pygments_lexer": "ipython3",
      "version": "3.6.8"
    },
    "pycharm": {
      "stem_cell": {
        "cell_type": "raw",
        "source": [],
        "metadata": {
          "collapsed": false
        }
      }
    },
    "colab": {
      "provenance": []
    },
    "widgets": {
      "application/vnd.jupyter.widget-state+json": {
        "565b80ad9f5d4845a6b2f4d364a74c34": {
          "model_module": "@jupyter-widgets/controls",
          "model_name": "HBoxModel",
          "model_module_version": "1.5.0",
          "state": {
            "_dom_classes": [],
            "_model_module": "@jupyter-widgets/controls",
            "_model_module_version": "1.5.0",
            "_model_name": "HBoxModel",
            "_view_count": null,
            "_view_module": "@jupyter-widgets/controls",
            "_view_module_version": "1.5.0",
            "_view_name": "HBoxView",
            "box_style": "",
            "children": [
              "IPY_MODEL_5305ac34bcd5454db1e66b8299144b23",
              "IPY_MODEL_424a033bf36b43eb86d2abfc4b7dc799",
              "IPY_MODEL_8107d40fbbb347f995c3fada77fa06b8"
            ],
            "layout": "IPY_MODEL_6ad52513424245e594344043bb6cc518"
          }
        },
        "5305ac34bcd5454db1e66b8299144b23": {
          "model_module": "@jupyter-widgets/controls",
          "model_name": "HTMLModel",
          "model_module_version": "1.5.0",
          "state": {
            "_dom_classes": [],
            "_model_module": "@jupyter-widgets/controls",
            "_model_module_version": "1.5.0",
            "_model_name": "HTMLModel",
            "_view_count": null,
            "_view_module": "@jupyter-widgets/controls",
            "_view_module_version": "1.5.0",
            "_view_name": "HTMLView",
            "description": "",
            "description_tooltip": null,
            "layout": "IPY_MODEL_8fe0a5d6f8e04ecf8b13b973328ab686",
            "placeholder": "​",
            "style": "IPY_MODEL_0e5193ee3f37469eb4f52ec2f647f886",
            "value": "model.safetensors: 100%"
          }
        },
        "424a033bf36b43eb86d2abfc4b7dc799": {
          "model_module": "@jupyter-widgets/controls",
          "model_name": "FloatProgressModel",
          "model_module_version": "1.5.0",
          "state": {
            "_dom_classes": [],
            "_model_module": "@jupyter-widgets/controls",
            "_model_module_version": "1.5.0",
            "_model_name": "FloatProgressModel",
            "_view_count": null,
            "_view_module": "@jupyter-widgets/controls",
            "_view_module_version": "1.5.0",
            "_view_name": "ProgressView",
            "bar_style": "success",
            "description": "",
            "description_tooltip": null,
            "layout": "IPY_MODEL_34a37b1892ed43759d2cd1bbb43a7022",
            "max": 440449768,
            "min": 0,
            "orientation": "horizontal",
            "style": "IPY_MODEL_58bec46f23c94432add3f3120d4bb4cd",
            "value": 440449768
          }
        },
        "8107d40fbbb347f995c3fada77fa06b8": {
          "model_module": "@jupyter-widgets/controls",
          "model_name": "HTMLModel",
          "model_module_version": "1.5.0",
          "state": {
            "_dom_classes": [],
            "_model_module": "@jupyter-widgets/controls",
            "_model_module_version": "1.5.0",
            "_model_name": "HTMLModel",
            "_view_count": null,
            "_view_module": "@jupyter-widgets/controls",
            "_view_module_version": "1.5.0",
            "_view_name": "HTMLView",
            "description": "",
            "description_tooltip": null,
            "layout": "IPY_MODEL_955f78cbcea74544a03c0ff274803bb1",
            "placeholder": "​",
            "style": "IPY_MODEL_4095b94957844805b297f80ebd23c5df",
            "value": " 440M/440M [00:06&lt;00:00, 72.8MB/s]"
          }
        },
        "6ad52513424245e594344043bb6cc518": {
          "model_module": "@jupyter-widgets/base",
          "model_name": "LayoutModel",
          "model_module_version": "1.2.0",
          "state": {
            "_model_module": "@jupyter-widgets/base",
            "_model_module_version": "1.2.0",
            "_model_name": "LayoutModel",
            "_view_count": null,
            "_view_module": "@jupyter-widgets/base",
            "_view_module_version": "1.2.0",
            "_view_name": "LayoutView",
            "align_content": null,
            "align_items": null,
            "align_self": null,
            "border": null,
            "bottom": null,
            "display": null,
            "flex": null,
            "flex_flow": null,
            "grid_area": null,
            "grid_auto_columns": null,
            "grid_auto_flow": null,
            "grid_auto_rows": null,
            "grid_column": null,
            "grid_gap": null,
            "grid_row": null,
            "grid_template_areas": null,
            "grid_template_columns": null,
            "grid_template_rows": null,
            "height": null,
            "justify_content": null,
            "justify_items": null,
            "left": null,
            "margin": null,
            "max_height": null,
            "max_width": null,
            "min_height": null,
            "min_width": null,
            "object_fit": null,
            "object_position": null,
            "order": null,
            "overflow": null,
            "overflow_x": null,
            "overflow_y": null,
            "padding": null,
            "right": null,
            "top": null,
            "visibility": null,
            "width": null
          }
        },
        "8fe0a5d6f8e04ecf8b13b973328ab686": {
          "model_module": "@jupyter-widgets/base",
          "model_name": "LayoutModel",
          "model_module_version": "1.2.0",
          "state": {
            "_model_module": "@jupyter-widgets/base",
            "_model_module_version": "1.2.0",
            "_model_name": "LayoutModel",
            "_view_count": null,
            "_view_module": "@jupyter-widgets/base",
            "_view_module_version": "1.2.0",
            "_view_name": "LayoutView",
            "align_content": null,
            "align_items": null,
            "align_self": null,
            "border": null,
            "bottom": null,
            "display": null,
            "flex": null,
            "flex_flow": null,
            "grid_area": null,
            "grid_auto_columns": null,
            "grid_auto_flow": null,
            "grid_auto_rows": null,
            "grid_column": null,
            "grid_gap": null,
            "grid_row": null,
            "grid_template_areas": null,
            "grid_template_columns": null,
            "grid_template_rows": null,
            "height": null,
            "justify_content": null,
            "justify_items": null,
            "left": null,
            "margin": null,
            "max_height": null,
            "max_width": null,
            "min_height": null,
            "min_width": null,
            "object_fit": null,
            "object_position": null,
            "order": null,
            "overflow": null,
            "overflow_x": null,
            "overflow_y": null,
            "padding": null,
            "right": null,
            "top": null,
            "visibility": null,
            "width": null
          }
        },
        "0e5193ee3f37469eb4f52ec2f647f886": {
          "model_module": "@jupyter-widgets/controls",
          "model_name": "DescriptionStyleModel",
          "model_module_version": "1.5.0",
          "state": {
            "_model_module": "@jupyter-widgets/controls",
            "_model_module_version": "1.5.0",
            "_model_name": "DescriptionStyleModel",
            "_view_count": null,
            "_view_module": "@jupyter-widgets/base",
            "_view_module_version": "1.2.0",
            "_view_name": "StyleView",
            "description_width": ""
          }
        },
        "34a37b1892ed43759d2cd1bbb43a7022": {
          "model_module": "@jupyter-widgets/base",
          "model_name": "LayoutModel",
          "model_module_version": "1.2.0",
          "state": {
            "_model_module": "@jupyter-widgets/base",
            "_model_module_version": "1.2.0",
            "_model_name": "LayoutModel",
            "_view_count": null,
            "_view_module": "@jupyter-widgets/base",
            "_view_module_version": "1.2.0",
            "_view_name": "LayoutView",
            "align_content": null,
            "align_items": null,
            "align_self": null,
            "border": null,
            "bottom": null,
            "display": null,
            "flex": null,
            "flex_flow": null,
            "grid_area": null,
            "grid_auto_columns": null,
            "grid_auto_flow": null,
            "grid_auto_rows": null,
            "grid_column": null,
            "grid_gap": null,
            "grid_row": null,
            "grid_template_areas": null,
            "grid_template_columns": null,
            "grid_template_rows": null,
            "height": null,
            "justify_content": null,
            "justify_items": null,
            "left": null,
            "margin": null,
            "max_height": null,
            "max_width": null,
            "min_height": null,
            "min_width": null,
            "object_fit": null,
            "object_position": null,
            "order": null,
            "overflow": null,
            "overflow_x": null,
            "overflow_y": null,
            "padding": null,
            "right": null,
            "top": null,
            "visibility": null,
            "width": null
          }
        },
        "58bec46f23c94432add3f3120d4bb4cd": {
          "model_module": "@jupyter-widgets/controls",
          "model_name": "ProgressStyleModel",
          "model_module_version": "1.5.0",
          "state": {
            "_model_module": "@jupyter-widgets/controls",
            "_model_module_version": "1.5.0",
            "_model_name": "ProgressStyleModel",
            "_view_count": null,
            "_view_module": "@jupyter-widgets/base",
            "_view_module_version": "1.2.0",
            "_view_name": "StyleView",
            "bar_color": null,
            "description_width": ""
          }
        },
        "955f78cbcea74544a03c0ff274803bb1": {
          "model_module": "@jupyter-widgets/base",
          "model_name": "LayoutModel",
          "model_module_version": "1.2.0",
          "state": {
            "_model_module": "@jupyter-widgets/base",
            "_model_module_version": "1.2.0",
            "_model_name": "LayoutModel",
            "_view_count": null,
            "_view_module": "@jupyter-widgets/base",
            "_view_module_version": "1.2.0",
            "_view_name": "LayoutView",
            "align_content": null,
            "align_items": null,
            "align_self": null,
            "border": null,
            "bottom": null,
            "display": null,
            "flex": null,
            "flex_flow": null,
            "grid_area": null,
            "grid_auto_columns": null,
            "grid_auto_flow": null,
            "grid_auto_rows": null,
            "grid_column": null,
            "grid_gap": null,
            "grid_row": null,
            "grid_template_areas": null,
            "grid_template_columns": null,
            "grid_template_rows": null,
            "height": null,
            "justify_content": null,
            "justify_items": null,
            "left": null,
            "margin": null,
            "max_height": null,
            "max_width": null,
            "min_height": null,
            "min_width": null,
            "object_fit": null,
            "object_position": null,
            "order": null,
            "overflow": null,
            "overflow_x": null,
            "overflow_y": null,
            "padding": null,
            "right": null,
            "top": null,
            "visibility": null,
            "width": null
          }
        },
        "4095b94957844805b297f80ebd23c5df": {
          "model_module": "@jupyter-widgets/controls",
          "model_name": "DescriptionStyleModel",
          "model_module_version": "1.5.0",
          "state": {
            "_model_module": "@jupyter-widgets/controls",
            "_model_module_version": "1.5.0",
            "_model_name": "DescriptionStyleModel",
            "_view_count": null,
            "_view_module": "@jupyter-widgets/base",
            "_view_module_version": "1.2.0",
            "_view_name": "StyleView",
            "description_width": ""
          }
        },
        "e362eb09f952401ca017a1ebd189bc4a": {
          "model_module": "@jupyter-widgets/controls",
          "model_name": "HBoxModel",
          "model_module_version": "1.5.0",
          "state": {
            "_dom_classes": [],
            "_model_module": "@jupyter-widgets/controls",
            "_model_module_version": "1.5.0",
            "_model_name": "HBoxModel",
            "_view_count": null,
            "_view_module": "@jupyter-widgets/controls",
            "_view_module_version": "1.5.0",
            "_view_name": "HBoxView",
            "box_style": "",
            "children": [
              "IPY_MODEL_f0dc80d6f25b4027ae61ec5a16a2fd45",
              "IPY_MODEL_ca3b3c579dff4e67833811ef48e45f44",
              "IPY_MODEL_162ada6161644a849ed42158f38a6576"
            ],
            "layout": "IPY_MODEL_bdd160b8d0fe47a78d52d6cc63806370"
          }
        },
        "f0dc80d6f25b4027ae61ec5a16a2fd45": {
          "model_module": "@jupyter-widgets/controls",
          "model_name": "HTMLModel",
          "model_module_version": "1.5.0",
          "state": {
            "_dom_classes": [],
            "_model_module": "@jupyter-widgets/controls",
            "_model_module_version": "1.5.0",
            "_model_name": "HTMLModel",
            "_view_count": null,
            "_view_module": "@jupyter-widgets/controls",
            "_view_module_version": "1.5.0",
            "_view_name": "HTMLView",
            "description": "",
            "description_tooltip": null,
            "layout": "IPY_MODEL_43775942b9754e8cbe6181d005505780",
            "placeholder": "​",
            "style": "IPY_MODEL_9156cd689ccb41bbb3bb13f7f306c615",
            "value": "tokenizer_config.json: 100%"
          }
        },
        "ca3b3c579dff4e67833811ef48e45f44": {
          "model_module": "@jupyter-widgets/controls",
          "model_name": "FloatProgressModel",
          "model_module_version": "1.5.0",
          "state": {
            "_dom_classes": [],
            "_model_module": "@jupyter-widgets/controls",
            "_model_module_version": "1.5.0",
            "_model_name": "FloatProgressModel",
            "_view_count": null,
            "_view_module": "@jupyter-widgets/controls",
            "_view_module_version": "1.5.0",
            "_view_name": "ProgressView",
            "bar_style": "success",
            "description": "",
            "description_tooltip": null,
            "layout": "IPY_MODEL_a0ba3b21a4394373bff9965b7d680d64",
            "max": 48,
            "min": 0,
            "orientation": "horizontal",
            "style": "IPY_MODEL_86483e77048c4939b8967e6f448a9982",
            "value": 48
          }
        },
        "162ada6161644a849ed42158f38a6576": {
          "model_module": "@jupyter-widgets/controls",
          "model_name": "HTMLModel",
          "model_module_version": "1.5.0",
          "state": {
            "_dom_classes": [],
            "_model_module": "@jupyter-widgets/controls",
            "_model_module_version": "1.5.0",
            "_model_name": "HTMLModel",
            "_view_count": null,
            "_view_module": "@jupyter-widgets/controls",
            "_view_module_version": "1.5.0",
            "_view_name": "HTMLView",
            "description": "",
            "description_tooltip": null,
            "layout": "IPY_MODEL_84f991753f204b9b94f3fc709ff555e3",
            "placeholder": "​",
            "style": "IPY_MODEL_836bed3ff038486cbe3bad86e08876c4",
            "value": " 48.0/48.0 [00:00&lt;00:00, 2.91kB/s]"
          }
        },
        "bdd160b8d0fe47a78d52d6cc63806370": {
          "model_module": "@jupyter-widgets/base",
          "model_name": "LayoutModel",
          "model_module_version": "1.2.0",
          "state": {
            "_model_module": "@jupyter-widgets/base",
            "_model_module_version": "1.2.0",
            "_model_name": "LayoutModel",
            "_view_count": null,
            "_view_module": "@jupyter-widgets/base",
            "_view_module_version": "1.2.0",
            "_view_name": "LayoutView",
            "align_content": null,
            "align_items": null,
            "align_self": null,
            "border": null,
            "bottom": null,
            "display": null,
            "flex": null,
            "flex_flow": null,
            "grid_area": null,
            "grid_auto_columns": null,
            "grid_auto_flow": null,
            "grid_auto_rows": null,
            "grid_column": null,
            "grid_gap": null,
            "grid_row": null,
            "grid_template_areas": null,
            "grid_template_columns": null,
            "grid_template_rows": null,
            "height": null,
            "justify_content": null,
            "justify_items": null,
            "left": null,
            "margin": null,
            "max_height": null,
            "max_width": null,
            "min_height": null,
            "min_width": null,
            "object_fit": null,
            "object_position": null,
            "order": null,
            "overflow": null,
            "overflow_x": null,
            "overflow_y": null,
            "padding": null,
            "right": null,
            "top": null,
            "visibility": null,
            "width": null
          }
        },
        "43775942b9754e8cbe6181d005505780": {
          "model_module": "@jupyter-widgets/base",
          "model_name": "LayoutModel",
          "model_module_version": "1.2.0",
          "state": {
            "_model_module": "@jupyter-widgets/base",
            "_model_module_version": "1.2.0",
            "_model_name": "LayoutModel",
            "_view_count": null,
            "_view_module": "@jupyter-widgets/base",
            "_view_module_version": "1.2.0",
            "_view_name": "LayoutView",
            "align_content": null,
            "align_items": null,
            "align_self": null,
            "border": null,
            "bottom": null,
            "display": null,
            "flex": null,
            "flex_flow": null,
            "grid_area": null,
            "grid_auto_columns": null,
            "grid_auto_flow": null,
            "grid_auto_rows": null,
            "grid_column": null,
            "grid_gap": null,
            "grid_row": null,
            "grid_template_areas": null,
            "grid_template_columns": null,
            "grid_template_rows": null,
            "height": null,
            "justify_content": null,
            "justify_items": null,
            "left": null,
            "margin": null,
            "max_height": null,
            "max_width": null,
            "min_height": null,
            "min_width": null,
            "object_fit": null,
            "object_position": null,
            "order": null,
            "overflow": null,
            "overflow_x": null,
            "overflow_y": null,
            "padding": null,
            "right": null,
            "top": null,
            "visibility": null,
            "width": null
          }
        },
        "9156cd689ccb41bbb3bb13f7f306c615": {
          "model_module": "@jupyter-widgets/controls",
          "model_name": "DescriptionStyleModel",
          "model_module_version": "1.5.0",
          "state": {
            "_model_module": "@jupyter-widgets/controls",
            "_model_module_version": "1.5.0",
            "_model_name": "DescriptionStyleModel",
            "_view_count": null,
            "_view_module": "@jupyter-widgets/base",
            "_view_module_version": "1.2.0",
            "_view_name": "StyleView",
            "description_width": ""
          }
        },
        "a0ba3b21a4394373bff9965b7d680d64": {
          "model_module": "@jupyter-widgets/base",
          "model_name": "LayoutModel",
          "model_module_version": "1.2.0",
          "state": {
            "_model_module": "@jupyter-widgets/base",
            "_model_module_version": "1.2.0",
            "_model_name": "LayoutModel",
            "_view_count": null,
            "_view_module": "@jupyter-widgets/base",
            "_view_module_version": "1.2.0",
            "_view_name": "LayoutView",
            "align_content": null,
            "align_items": null,
            "align_self": null,
            "border": null,
            "bottom": null,
            "display": null,
            "flex": null,
            "flex_flow": null,
            "grid_area": null,
            "grid_auto_columns": null,
            "grid_auto_flow": null,
            "grid_auto_rows": null,
            "grid_column": null,
            "grid_gap": null,
            "grid_row": null,
            "grid_template_areas": null,
            "grid_template_columns": null,
            "grid_template_rows": null,
            "height": null,
            "justify_content": null,
            "justify_items": null,
            "left": null,
            "margin": null,
            "max_height": null,
            "max_width": null,
            "min_height": null,
            "min_width": null,
            "object_fit": null,
            "object_position": null,
            "order": null,
            "overflow": null,
            "overflow_x": null,
            "overflow_y": null,
            "padding": null,
            "right": null,
            "top": null,
            "visibility": null,
            "width": null
          }
        },
        "86483e77048c4939b8967e6f448a9982": {
          "model_module": "@jupyter-widgets/controls",
          "model_name": "ProgressStyleModel",
          "model_module_version": "1.5.0",
          "state": {
            "_model_module": "@jupyter-widgets/controls",
            "_model_module_version": "1.5.0",
            "_model_name": "ProgressStyleModel",
            "_view_count": null,
            "_view_module": "@jupyter-widgets/base",
            "_view_module_version": "1.2.0",
            "_view_name": "StyleView",
            "bar_color": null,
            "description_width": ""
          }
        },
        "84f991753f204b9b94f3fc709ff555e3": {
          "model_module": "@jupyter-widgets/base",
          "model_name": "LayoutModel",
          "model_module_version": "1.2.0",
          "state": {
            "_model_module": "@jupyter-widgets/base",
            "_model_module_version": "1.2.0",
            "_model_name": "LayoutModel",
            "_view_count": null,
            "_view_module": "@jupyter-widgets/base",
            "_view_module_version": "1.2.0",
            "_view_name": "LayoutView",
            "align_content": null,
            "align_items": null,
            "align_self": null,
            "border": null,
            "bottom": null,
            "display": null,
            "flex": null,
            "flex_flow": null,
            "grid_area": null,
            "grid_auto_columns": null,
            "grid_auto_flow": null,
            "grid_auto_rows": null,
            "grid_column": null,
            "grid_gap": null,
            "grid_row": null,
            "grid_template_areas": null,
            "grid_template_columns": null,
            "grid_template_rows": null,
            "height": null,
            "justify_content": null,
            "justify_items": null,
            "left": null,
            "margin": null,
            "max_height": null,
            "max_width": null,
            "min_height": null,
            "min_width": null,
            "object_fit": null,
            "object_position": null,
            "order": null,
            "overflow": null,
            "overflow_x": null,
            "overflow_y": null,
            "padding": null,
            "right": null,
            "top": null,
            "visibility": null,
            "width": null
          }
        },
        "836bed3ff038486cbe3bad86e08876c4": {
          "model_module": "@jupyter-widgets/controls",
          "model_name": "DescriptionStyleModel",
          "model_module_version": "1.5.0",
          "state": {
            "_model_module": "@jupyter-widgets/controls",
            "_model_module_version": "1.5.0",
            "_model_name": "DescriptionStyleModel",
            "_view_count": null,
            "_view_module": "@jupyter-widgets/base",
            "_view_module_version": "1.2.0",
            "_view_name": "StyleView",
            "description_width": ""
          }
        },
        "e5ca8da7550946ad8c0342624611489b": {
          "model_module": "@jupyter-widgets/controls",
          "model_name": "HBoxModel",
          "model_module_version": "1.5.0",
          "state": {
            "_dom_classes": [],
            "_model_module": "@jupyter-widgets/controls",
            "_model_module_version": "1.5.0",
            "_model_name": "HBoxModel",
            "_view_count": null,
            "_view_module": "@jupyter-widgets/controls",
            "_view_module_version": "1.5.0",
            "_view_name": "HBoxView",
            "box_style": "",
            "children": [
              "IPY_MODEL_8108749c913640a1b85240c6a52aaf88",
              "IPY_MODEL_8d3a22f6cbe14e94a240ec5957b5b710",
              "IPY_MODEL_7970aea63afd4e5c8ed61309b86c8568"
            ],
            "layout": "IPY_MODEL_090e63040190489e979c20618f706761"
          }
        },
        "8108749c913640a1b85240c6a52aaf88": {
          "model_module": "@jupyter-widgets/controls",
          "model_name": "HTMLModel",
          "model_module_version": "1.5.0",
          "state": {
            "_dom_classes": [],
            "_model_module": "@jupyter-widgets/controls",
            "_model_module_version": "1.5.0",
            "_model_name": "HTMLModel",
            "_view_count": null,
            "_view_module": "@jupyter-widgets/controls",
            "_view_module_version": "1.5.0",
            "_view_name": "HTMLView",
            "description": "",
            "description_tooltip": null,
            "layout": "IPY_MODEL_ffc645628ddb475daaf3440c61c86057",
            "placeholder": "​",
            "style": "IPY_MODEL_b7287f07a9a44d5896807b4f8650cf6f",
            "value": "vocab.txt: 100%"
          }
        },
        "8d3a22f6cbe14e94a240ec5957b5b710": {
          "model_module": "@jupyter-widgets/controls",
          "model_name": "FloatProgressModel",
          "model_module_version": "1.5.0",
          "state": {
            "_dom_classes": [],
            "_model_module": "@jupyter-widgets/controls",
            "_model_module_version": "1.5.0",
            "_model_name": "FloatProgressModel",
            "_view_count": null,
            "_view_module": "@jupyter-widgets/controls",
            "_view_module_version": "1.5.0",
            "_view_name": "ProgressView",
            "bar_style": "success",
            "description": "",
            "description_tooltip": null,
            "layout": "IPY_MODEL_94d4a18b0b7540bebef67f37229c3de8",
            "max": 231508,
            "min": 0,
            "orientation": "horizontal",
            "style": "IPY_MODEL_75050ee9280c45c4ac3e182047f3a89e",
            "value": 231508
          }
        },
        "7970aea63afd4e5c8ed61309b86c8568": {
          "model_module": "@jupyter-widgets/controls",
          "model_name": "HTMLModel",
          "model_module_version": "1.5.0",
          "state": {
            "_dom_classes": [],
            "_model_module": "@jupyter-widgets/controls",
            "_model_module_version": "1.5.0",
            "_model_name": "HTMLModel",
            "_view_count": null,
            "_view_module": "@jupyter-widgets/controls",
            "_view_module_version": "1.5.0",
            "_view_name": "HTMLView",
            "description": "",
            "description_tooltip": null,
            "layout": "IPY_MODEL_2cf215b8173642d49ce0b75f6cdddf10",
            "placeholder": "​",
            "style": "IPY_MODEL_2efae0103752469ead2849adce1d61d8",
            "value": " 232k/232k [00:00&lt;00:00, 2.77MB/s]"
          }
        },
        "090e63040190489e979c20618f706761": {
          "model_module": "@jupyter-widgets/base",
          "model_name": "LayoutModel",
          "model_module_version": "1.2.0",
          "state": {
            "_model_module": "@jupyter-widgets/base",
            "_model_module_version": "1.2.0",
            "_model_name": "LayoutModel",
            "_view_count": null,
            "_view_module": "@jupyter-widgets/base",
            "_view_module_version": "1.2.0",
            "_view_name": "LayoutView",
            "align_content": null,
            "align_items": null,
            "align_self": null,
            "border": null,
            "bottom": null,
            "display": null,
            "flex": null,
            "flex_flow": null,
            "grid_area": null,
            "grid_auto_columns": null,
            "grid_auto_flow": null,
            "grid_auto_rows": null,
            "grid_column": null,
            "grid_gap": null,
            "grid_row": null,
            "grid_template_areas": null,
            "grid_template_columns": null,
            "grid_template_rows": null,
            "height": null,
            "justify_content": null,
            "justify_items": null,
            "left": null,
            "margin": null,
            "max_height": null,
            "max_width": null,
            "min_height": null,
            "min_width": null,
            "object_fit": null,
            "object_position": null,
            "order": null,
            "overflow": null,
            "overflow_x": null,
            "overflow_y": null,
            "padding": null,
            "right": null,
            "top": null,
            "visibility": null,
            "width": null
          }
        },
        "ffc645628ddb475daaf3440c61c86057": {
          "model_module": "@jupyter-widgets/base",
          "model_name": "LayoutModel",
          "model_module_version": "1.2.0",
          "state": {
            "_model_module": "@jupyter-widgets/base",
            "_model_module_version": "1.2.0",
            "_model_name": "LayoutModel",
            "_view_count": null,
            "_view_module": "@jupyter-widgets/base",
            "_view_module_version": "1.2.0",
            "_view_name": "LayoutView",
            "align_content": null,
            "align_items": null,
            "align_self": null,
            "border": null,
            "bottom": null,
            "display": null,
            "flex": null,
            "flex_flow": null,
            "grid_area": null,
            "grid_auto_columns": null,
            "grid_auto_flow": null,
            "grid_auto_rows": null,
            "grid_column": null,
            "grid_gap": null,
            "grid_row": null,
            "grid_template_areas": null,
            "grid_template_columns": null,
            "grid_template_rows": null,
            "height": null,
            "justify_content": null,
            "justify_items": null,
            "left": null,
            "margin": null,
            "max_height": null,
            "max_width": null,
            "min_height": null,
            "min_width": null,
            "object_fit": null,
            "object_position": null,
            "order": null,
            "overflow": null,
            "overflow_x": null,
            "overflow_y": null,
            "padding": null,
            "right": null,
            "top": null,
            "visibility": null,
            "width": null
          }
        },
        "b7287f07a9a44d5896807b4f8650cf6f": {
          "model_module": "@jupyter-widgets/controls",
          "model_name": "DescriptionStyleModel",
          "model_module_version": "1.5.0",
          "state": {
            "_model_module": "@jupyter-widgets/controls",
            "_model_module_version": "1.5.0",
            "_model_name": "DescriptionStyleModel",
            "_view_count": null,
            "_view_module": "@jupyter-widgets/base",
            "_view_module_version": "1.2.0",
            "_view_name": "StyleView",
            "description_width": ""
          }
        },
        "94d4a18b0b7540bebef67f37229c3de8": {
          "model_module": "@jupyter-widgets/base",
          "model_name": "LayoutModel",
          "model_module_version": "1.2.0",
          "state": {
            "_model_module": "@jupyter-widgets/base",
            "_model_module_version": "1.2.0",
            "_model_name": "LayoutModel",
            "_view_count": null,
            "_view_module": "@jupyter-widgets/base",
            "_view_module_version": "1.2.0",
            "_view_name": "LayoutView",
            "align_content": null,
            "align_items": null,
            "align_self": null,
            "border": null,
            "bottom": null,
            "display": null,
            "flex": null,
            "flex_flow": null,
            "grid_area": null,
            "grid_auto_columns": null,
            "grid_auto_flow": null,
            "grid_auto_rows": null,
            "grid_column": null,
            "grid_gap": null,
            "grid_row": null,
            "grid_template_areas": null,
            "grid_template_columns": null,
            "grid_template_rows": null,
            "height": null,
            "justify_content": null,
            "justify_items": null,
            "left": null,
            "margin": null,
            "max_height": null,
            "max_width": null,
            "min_height": null,
            "min_width": null,
            "object_fit": null,
            "object_position": null,
            "order": null,
            "overflow": null,
            "overflow_x": null,
            "overflow_y": null,
            "padding": null,
            "right": null,
            "top": null,
            "visibility": null,
            "width": null
          }
        },
        "75050ee9280c45c4ac3e182047f3a89e": {
          "model_module": "@jupyter-widgets/controls",
          "model_name": "ProgressStyleModel",
          "model_module_version": "1.5.0",
          "state": {
            "_model_module": "@jupyter-widgets/controls",
            "_model_module_version": "1.5.0",
            "_model_name": "ProgressStyleModel",
            "_view_count": null,
            "_view_module": "@jupyter-widgets/base",
            "_view_module_version": "1.2.0",
            "_view_name": "StyleView",
            "bar_color": null,
            "description_width": ""
          }
        },
        "2cf215b8173642d49ce0b75f6cdddf10": {
          "model_module": "@jupyter-widgets/base",
          "model_name": "LayoutModel",
          "model_module_version": "1.2.0",
          "state": {
            "_model_module": "@jupyter-widgets/base",
            "_model_module_version": "1.2.0",
            "_model_name": "LayoutModel",
            "_view_count": null,
            "_view_module": "@jupyter-widgets/base",
            "_view_module_version": "1.2.0",
            "_view_name": "LayoutView",
            "align_content": null,
            "align_items": null,
            "align_self": null,
            "border": null,
            "bottom": null,
            "display": null,
            "flex": null,
            "flex_flow": null,
            "grid_area": null,
            "grid_auto_columns": null,
            "grid_auto_flow": null,
            "grid_auto_rows": null,
            "grid_column": null,
            "grid_gap": null,
            "grid_row": null,
            "grid_template_areas": null,
            "grid_template_columns": null,
            "grid_template_rows": null,
            "height": null,
            "justify_content": null,
            "justify_items": null,
            "left": null,
            "margin": null,
            "max_height": null,
            "max_width": null,
            "min_height": null,
            "min_width": null,
            "object_fit": null,
            "object_position": null,
            "order": null,
            "overflow": null,
            "overflow_x": null,
            "overflow_y": null,
            "padding": null,
            "right": null,
            "top": null,
            "visibility": null,
            "width": null
          }
        },
        "2efae0103752469ead2849adce1d61d8": {
          "model_module": "@jupyter-widgets/controls",
          "model_name": "DescriptionStyleModel",
          "model_module_version": "1.5.0",
          "state": {
            "_model_module": "@jupyter-widgets/controls",
            "_model_module_version": "1.5.0",
            "_model_name": "DescriptionStyleModel",
            "_view_count": null,
            "_view_module": "@jupyter-widgets/base",
            "_view_module_version": "1.2.0",
            "_view_name": "StyleView",
            "description_width": ""
          }
        },
        "a62e8f97f9564b979e73ea2056eb45d8": {
          "model_module": "@jupyter-widgets/controls",
          "model_name": "HBoxModel",
          "model_module_version": "1.5.0",
          "state": {
            "_dom_classes": [],
            "_model_module": "@jupyter-widgets/controls",
            "_model_module_version": "1.5.0",
            "_model_name": "HBoxModel",
            "_view_count": null,
            "_view_module": "@jupyter-widgets/controls",
            "_view_module_version": "1.5.0",
            "_view_name": "HBoxView",
            "box_style": "",
            "children": [
              "IPY_MODEL_98c30334dcfa48cdbb130e2415e80bee",
              "IPY_MODEL_8aabe341bec14b1eb1bdd548f8c61ae0",
              "IPY_MODEL_b514da937d9c4891bfe78386c539670c"
            ],
            "layout": "IPY_MODEL_53a7c72b250743dbb99348685fb48133"
          }
        },
        "98c30334dcfa48cdbb130e2415e80bee": {
          "model_module": "@jupyter-widgets/controls",
          "model_name": "HTMLModel",
          "model_module_version": "1.5.0",
          "state": {
            "_dom_classes": [],
            "_model_module": "@jupyter-widgets/controls",
            "_model_module_version": "1.5.0",
            "_model_name": "HTMLModel",
            "_view_count": null,
            "_view_module": "@jupyter-widgets/controls",
            "_view_module_version": "1.5.0",
            "_view_name": "HTMLView",
            "description": "",
            "description_tooltip": null,
            "layout": "IPY_MODEL_96ac0e71219741588ec97b69f09dff1c",
            "placeholder": "​",
            "style": "IPY_MODEL_deb2ae928a9d49578ec3d5c6e9ef883f",
            "value": "tokenizer.json: 100%"
          }
        },
        "8aabe341bec14b1eb1bdd548f8c61ae0": {
          "model_module": "@jupyter-widgets/controls",
          "model_name": "FloatProgressModel",
          "model_module_version": "1.5.0",
          "state": {
            "_dom_classes": [],
            "_model_module": "@jupyter-widgets/controls",
            "_model_module_version": "1.5.0",
            "_model_name": "FloatProgressModel",
            "_view_count": null,
            "_view_module": "@jupyter-widgets/controls",
            "_view_module_version": "1.5.0",
            "_view_name": "ProgressView",
            "bar_style": "success",
            "description": "",
            "description_tooltip": null,
            "layout": "IPY_MODEL_a860eec052284a1eac2befb018f7660f",
            "max": 466062,
            "min": 0,
            "orientation": "horizontal",
            "style": "IPY_MODEL_7dcd83e3b945440cbbe4f3bb109a90c4",
            "value": 466062
          }
        },
        "b514da937d9c4891bfe78386c539670c": {
          "model_module": "@jupyter-widgets/controls",
          "model_name": "HTMLModel",
          "model_module_version": "1.5.0",
          "state": {
            "_dom_classes": [],
            "_model_module": "@jupyter-widgets/controls",
            "_model_module_version": "1.5.0",
            "_model_name": "HTMLModel",
            "_view_count": null,
            "_view_module": "@jupyter-widgets/controls",
            "_view_module_version": "1.5.0",
            "_view_name": "HTMLView",
            "description": "",
            "description_tooltip": null,
            "layout": "IPY_MODEL_874d2e06bd7743a5902b7a42eccd3556",
            "placeholder": "​",
            "style": "IPY_MODEL_9d3a31d63ff94b3781e5ef1be1dc7d1d",
            "value": " 466k/466k [00:00&lt;00:00, 2.28MB/s]"
          }
        },
        "53a7c72b250743dbb99348685fb48133": {
          "model_module": "@jupyter-widgets/base",
          "model_name": "LayoutModel",
          "model_module_version": "1.2.0",
          "state": {
            "_model_module": "@jupyter-widgets/base",
            "_model_module_version": "1.2.0",
            "_model_name": "LayoutModel",
            "_view_count": null,
            "_view_module": "@jupyter-widgets/base",
            "_view_module_version": "1.2.0",
            "_view_name": "LayoutView",
            "align_content": null,
            "align_items": null,
            "align_self": null,
            "border": null,
            "bottom": null,
            "display": null,
            "flex": null,
            "flex_flow": null,
            "grid_area": null,
            "grid_auto_columns": null,
            "grid_auto_flow": null,
            "grid_auto_rows": null,
            "grid_column": null,
            "grid_gap": null,
            "grid_row": null,
            "grid_template_areas": null,
            "grid_template_columns": null,
            "grid_template_rows": null,
            "height": null,
            "justify_content": null,
            "justify_items": null,
            "left": null,
            "margin": null,
            "max_height": null,
            "max_width": null,
            "min_height": null,
            "min_width": null,
            "object_fit": null,
            "object_position": null,
            "order": null,
            "overflow": null,
            "overflow_x": null,
            "overflow_y": null,
            "padding": null,
            "right": null,
            "top": null,
            "visibility": null,
            "width": null
          }
        },
        "96ac0e71219741588ec97b69f09dff1c": {
          "model_module": "@jupyter-widgets/base",
          "model_name": "LayoutModel",
          "model_module_version": "1.2.0",
          "state": {
            "_model_module": "@jupyter-widgets/base",
            "_model_module_version": "1.2.0",
            "_model_name": "LayoutModel",
            "_view_count": null,
            "_view_module": "@jupyter-widgets/base",
            "_view_module_version": "1.2.0",
            "_view_name": "LayoutView",
            "align_content": null,
            "align_items": null,
            "align_self": null,
            "border": null,
            "bottom": null,
            "display": null,
            "flex": null,
            "flex_flow": null,
            "grid_area": null,
            "grid_auto_columns": null,
            "grid_auto_flow": null,
            "grid_auto_rows": null,
            "grid_column": null,
            "grid_gap": null,
            "grid_row": null,
            "grid_template_areas": null,
            "grid_template_columns": null,
            "grid_template_rows": null,
            "height": null,
            "justify_content": null,
            "justify_items": null,
            "left": null,
            "margin": null,
            "max_height": null,
            "max_width": null,
            "min_height": null,
            "min_width": null,
            "object_fit": null,
            "object_position": null,
            "order": null,
            "overflow": null,
            "overflow_x": null,
            "overflow_y": null,
            "padding": null,
            "right": null,
            "top": null,
            "visibility": null,
            "width": null
          }
        },
        "deb2ae928a9d49578ec3d5c6e9ef883f": {
          "model_module": "@jupyter-widgets/controls",
          "model_name": "DescriptionStyleModel",
          "model_module_version": "1.5.0",
          "state": {
            "_model_module": "@jupyter-widgets/controls",
            "_model_module_version": "1.5.0",
            "_model_name": "DescriptionStyleModel",
            "_view_count": null,
            "_view_module": "@jupyter-widgets/base",
            "_view_module_version": "1.2.0",
            "_view_name": "StyleView",
            "description_width": ""
          }
        },
        "a860eec052284a1eac2befb018f7660f": {
          "model_module": "@jupyter-widgets/base",
          "model_name": "LayoutModel",
          "model_module_version": "1.2.0",
          "state": {
            "_model_module": "@jupyter-widgets/base",
            "_model_module_version": "1.2.0",
            "_model_name": "LayoutModel",
            "_view_count": null,
            "_view_module": "@jupyter-widgets/base",
            "_view_module_version": "1.2.0",
            "_view_name": "LayoutView",
            "align_content": null,
            "align_items": null,
            "align_self": null,
            "border": null,
            "bottom": null,
            "display": null,
            "flex": null,
            "flex_flow": null,
            "grid_area": null,
            "grid_auto_columns": null,
            "grid_auto_flow": null,
            "grid_auto_rows": null,
            "grid_column": null,
            "grid_gap": null,
            "grid_row": null,
            "grid_template_areas": null,
            "grid_template_columns": null,
            "grid_template_rows": null,
            "height": null,
            "justify_content": null,
            "justify_items": null,
            "left": null,
            "margin": null,
            "max_height": null,
            "max_width": null,
            "min_height": null,
            "min_width": null,
            "object_fit": null,
            "object_position": null,
            "order": null,
            "overflow": null,
            "overflow_x": null,
            "overflow_y": null,
            "padding": null,
            "right": null,
            "top": null,
            "visibility": null,
            "width": null
          }
        },
        "7dcd83e3b945440cbbe4f3bb109a90c4": {
          "model_module": "@jupyter-widgets/controls",
          "model_name": "ProgressStyleModel",
          "model_module_version": "1.5.0",
          "state": {
            "_model_module": "@jupyter-widgets/controls",
            "_model_module_version": "1.5.0",
            "_model_name": "ProgressStyleModel",
            "_view_count": null,
            "_view_module": "@jupyter-widgets/base",
            "_view_module_version": "1.2.0",
            "_view_name": "StyleView",
            "bar_color": null,
            "description_width": ""
          }
        },
        "874d2e06bd7743a5902b7a42eccd3556": {
          "model_module": "@jupyter-widgets/base",
          "model_name": "LayoutModel",
          "model_module_version": "1.2.0",
          "state": {
            "_model_module": "@jupyter-widgets/base",
            "_model_module_version": "1.2.0",
            "_model_name": "LayoutModel",
            "_view_count": null,
            "_view_module": "@jupyter-widgets/base",
            "_view_module_version": "1.2.0",
            "_view_name": "LayoutView",
            "align_content": null,
            "align_items": null,
            "align_self": null,
            "border": null,
            "bottom": null,
            "display": null,
            "flex": null,
            "flex_flow": null,
            "grid_area": null,
            "grid_auto_columns": null,
            "grid_auto_flow": null,
            "grid_auto_rows": null,
            "grid_column": null,
            "grid_gap": null,
            "grid_row": null,
            "grid_template_areas": null,
            "grid_template_columns": null,
            "grid_template_rows": null,
            "height": null,
            "justify_content": null,
            "justify_items": null,
            "left": null,
            "margin": null,
            "max_height": null,
            "max_width": null,
            "min_height": null,
            "min_width": null,
            "object_fit": null,
            "object_position": null,
            "order": null,
            "overflow": null,
            "overflow_x": null,
            "overflow_y": null,
            "padding": null,
            "right": null,
            "top": null,
            "visibility": null,
            "width": null
          }
        },
        "9d3a31d63ff94b3781e5ef1be1dc7d1d": {
          "model_module": "@jupyter-widgets/controls",
          "model_name": "DescriptionStyleModel",
          "model_module_version": "1.5.0",
          "state": {
            "_model_module": "@jupyter-widgets/controls",
            "_model_module_version": "1.5.0",
            "_model_name": "DescriptionStyleModel",
            "_view_count": null,
            "_view_module": "@jupyter-widgets/base",
            "_view_module_version": "1.2.0",
            "_view_name": "StyleView",
            "description_width": ""
          }
        },
        "aa6f97eaf46c4266ae04bf2f09d2607b": {
          "model_module": "@jupyter-widgets/controls",
          "model_name": "HBoxModel",
          "model_module_version": "1.5.0",
          "state": {
            "_dom_classes": [],
            "_model_module": "@jupyter-widgets/controls",
            "_model_module_version": "1.5.0",
            "_model_name": "HBoxModel",
            "_view_count": null,
            "_view_module": "@jupyter-widgets/controls",
            "_view_module_version": "1.5.0",
            "_view_name": "HBoxView",
            "box_style": "",
            "children": [
              "IPY_MODEL_6af311c9d159427bbe63f5aac4e8a0b2",
              "IPY_MODEL_ddab3404e90f4dec832f4ec0a0485379",
              "IPY_MODEL_300744fdfc6c4c179d2f18b345443700"
            ],
            "layout": "IPY_MODEL_d2d99e933a824230a7978cc388a65d89"
          }
        },
        "6af311c9d159427bbe63f5aac4e8a0b2": {
          "model_module": "@jupyter-widgets/controls",
          "model_name": "HTMLModel",
          "model_module_version": "1.5.0",
          "state": {
            "_dom_classes": [],
            "_model_module": "@jupyter-widgets/controls",
            "_model_module_version": "1.5.0",
            "_model_name": "HTMLModel",
            "_view_count": null,
            "_view_module": "@jupyter-widgets/controls",
            "_view_module_version": "1.5.0",
            "_view_name": "HTMLView",
            "description": "",
            "description_tooltip": null,
            "layout": "IPY_MODEL_f7077a538f5b477084a9595c7616cc6c",
            "placeholder": "​",
            "style": "IPY_MODEL_22a77a76fcb44ba8978eaacf06c01443",
            "value": "config.json: 100%"
          }
        },
        "ddab3404e90f4dec832f4ec0a0485379": {
          "model_module": "@jupyter-widgets/controls",
          "model_name": "FloatProgressModel",
          "model_module_version": "1.5.0",
          "state": {
            "_dom_classes": [],
            "_model_module": "@jupyter-widgets/controls",
            "_model_module_version": "1.5.0",
            "_model_name": "FloatProgressModel",
            "_view_count": null,
            "_view_module": "@jupyter-widgets/controls",
            "_view_module_version": "1.5.0",
            "_view_name": "ProgressView",
            "bar_style": "success",
            "description": "",
            "description_tooltip": null,
            "layout": "IPY_MODEL_acbd811eab904556ab5a1c1dc2b8f0a2",
            "max": 570,
            "min": 0,
            "orientation": "horizontal",
            "style": "IPY_MODEL_c7da429d091c4b20b784d2aa3ca79175",
            "value": 570
          }
        },
        "300744fdfc6c4c179d2f18b345443700": {
          "model_module": "@jupyter-widgets/controls",
          "model_name": "HTMLModel",
          "model_module_version": "1.5.0",
          "state": {
            "_dom_classes": [],
            "_model_module": "@jupyter-widgets/controls",
            "_model_module_version": "1.5.0",
            "_model_name": "HTMLModel",
            "_view_count": null,
            "_view_module": "@jupyter-widgets/controls",
            "_view_module_version": "1.5.0",
            "_view_name": "HTMLView",
            "description": "",
            "description_tooltip": null,
            "layout": "IPY_MODEL_f1b33cfb7ec7444993e3726dd6f7d205",
            "placeholder": "​",
            "style": "IPY_MODEL_0d85aae5326d4e26bab2ba871413336d",
            "value": " 570/570 [00:00&lt;00:00, 38.3kB/s]"
          }
        },
        "d2d99e933a824230a7978cc388a65d89": {
          "model_module": "@jupyter-widgets/base",
          "model_name": "LayoutModel",
          "model_module_version": "1.2.0",
          "state": {
            "_model_module": "@jupyter-widgets/base",
            "_model_module_version": "1.2.0",
            "_model_name": "LayoutModel",
            "_view_count": null,
            "_view_module": "@jupyter-widgets/base",
            "_view_module_version": "1.2.0",
            "_view_name": "LayoutView",
            "align_content": null,
            "align_items": null,
            "align_self": null,
            "border": null,
            "bottom": null,
            "display": null,
            "flex": null,
            "flex_flow": null,
            "grid_area": null,
            "grid_auto_columns": null,
            "grid_auto_flow": null,
            "grid_auto_rows": null,
            "grid_column": null,
            "grid_gap": null,
            "grid_row": null,
            "grid_template_areas": null,
            "grid_template_columns": null,
            "grid_template_rows": null,
            "height": null,
            "justify_content": null,
            "justify_items": null,
            "left": null,
            "margin": null,
            "max_height": null,
            "max_width": null,
            "min_height": null,
            "min_width": null,
            "object_fit": null,
            "object_position": null,
            "order": null,
            "overflow": null,
            "overflow_x": null,
            "overflow_y": null,
            "padding": null,
            "right": null,
            "top": null,
            "visibility": null,
            "width": null
          }
        },
        "f7077a538f5b477084a9595c7616cc6c": {
          "model_module": "@jupyter-widgets/base",
          "model_name": "LayoutModel",
          "model_module_version": "1.2.0",
          "state": {
            "_model_module": "@jupyter-widgets/base",
            "_model_module_version": "1.2.0",
            "_model_name": "LayoutModel",
            "_view_count": null,
            "_view_module": "@jupyter-widgets/base",
            "_view_module_version": "1.2.0",
            "_view_name": "LayoutView",
            "align_content": null,
            "align_items": null,
            "align_self": null,
            "border": null,
            "bottom": null,
            "display": null,
            "flex": null,
            "flex_flow": null,
            "grid_area": null,
            "grid_auto_columns": null,
            "grid_auto_flow": null,
            "grid_auto_rows": null,
            "grid_column": null,
            "grid_gap": null,
            "grid_row": null,
            "grid_template_areas": null,
            "grid_template_columns": null,
            "grid_template_rows": null,
            "height": null,
            "justify_content": null,
            "justify_items": null,
            "left": null,
            "margin": null,
            "max_height": null,
            "max_width": null,
            "min_height": null,
            "min_width": null,
            "object_fit": null,
            "object_position": null,
            "order": null,
            "overflow": null,
            "overflow_x": null,
            "overflow_y": null,
            "padding": null,
            "right": null,
            "top": null,
            "visibility": null,
            "width": null
          }
        },
        "22a77a76fcb44ba8978eaacf06c01443": {
          "model_module": "@jupyter-widgets/controls",
          "model_name": "DescriptionStyleModel",
          "model_module_version": "1.5.0",
          "state": {
            "_model_module": "@jupyter-widgets/controls",
            "_model_module_version": "1.5.0",
            "_model_name": "DescriptionStyleModel",
            "_view_count": null,
            "_view_module": "@jupyter-widgets/base",
            "_view_module_version": "1.2.0",
            "_view_name": "StyleView",
            "description_width": ""
          }
        },
        "acbd811eab904556ab5a1c1dc2b8f0a2": {
          "model_module": "@jupyter-widgets/base",
          "model_name": "LayoutModel",
          "model_module_version": "1.2.0",
          "state": {
            "_model_module": "@jupyter-widgets/base",
            "_model_module_version": "1.2.0",
            "_model_name": "LayoutModel",
            "_view_count": null,
            "_view_module": "@jupyter-widgets/base",
            "_view_module_version": "1.2.0",
            "_view_name": "LayoutView",
            "align_content": null,
            "align_items": null,
            "align_self": null,
            "border": null,
            "bottom": null,
            "display": null,
            "flex": null,
            "flex_flow": null,
            "grid_area": null,
            "grid_auto_columns": null,
            "grid_auto_flow": null,
            "grid_auto_rows": null,
            "grid_column": null,
            "grid_gap": null,
            "grid_row": null,
            "grid_template_areas": null,
            "grid_template_columns": null,
            "grid_template_rows": null,
            "height": null,
            "justify_content": null,
            "justify_items": null,
            "left": null,
            "margin": null,
            "max_height": null,
            "max_width": null,
            "min_height": null,
            "min_width": null,
            "object_fit": null,
            "object_position": null,
            "order": null,
            "overflow": null,
            "overflow_x": null,
            "overflow_y": null,
            "padding": null,
            "right": null,
            "top": null,
            "visibility": null,
            "width": null
          }
        },
        "c7da429d091c4b20b784d2aa3ca79175": {
          "model_module": "@jupyter-widgets/controls",
          "model_name": "ProgressStyleModel",
          "model_module_version": "1.5.0",
          "state": {
            "_model_module": "@jupyter-widgets/controls",
            "_model_module_version": "1.5.0",
            "_model_name": "ProgressStyleModel",
            "_view_count": null,
            "_view_module": "@jupyter-widgets/base",
            "_view_module_version": "1.2.0",
            "_view_name": "StyleView",
            "bar_color": null,
            "description_width": ""
          }
        },
        "f1b33cfb7ec7444993e3726dd6f7d205": {
          "model_module": "@jupyter-widgets/base",
          "model_name": "LayoutModel",
          "model_module_version": "1.2.0",
          "state": {
            "_model_module": "@jupyter-widgets/base",
            "_model_module_version": "1.2.0",
            "_model_name": "LayoutModel",
            "_view_count": null,
            "_view_module": "@jupyter-widgets/base",
            "_view_module_version": "1.2.0",
            "_view_name": "LayoutView",
            "align_content": null,
            "align_items": null,
            "align_self": null,
            "border": null,
            "bottom": null,
            "display": null,
            "flex": null,
            "flex_flow": null,
            "grid_area": null,
            "grid_auto_columns": null,
            "grid_auto_flow": null,
            "grid_auto_rows": null,
            "grid_column": null,
            "grid_gap": null,
            "grid_row": null,
            "grid_template_areas": null,
            "grid_template_columns": null,
            "grid_template_rows": null,
            "height": null,
            "justify_content": null,
            "justify_items": null,
            "left": null,
            "margin": null,
            "max_height": null,
            "max_width": null,
            "min_height": null,
            "min_width": null,
            "object_fit": null,
            "object_position": null,
            "order": null,
            "overflow": null,
            "overflow_x": null,
            "overflow_y": null,
            "padding": null,
            "right": null,
            "top": null,
            "visibility": null,
            "width": null
          }
        },
        "0d85aae5326d4e26bab2ba871413336d": {
          "model_module": "@jupyter-widgets/controls",
          "model_name": "DescriptionStyleModel",
          "model_module_version": "1.5.0",
          "state": {
            "_model_module": "@jupyter-widgets/controls",
            "_model_module_version": "1.5.0",
            "_model_name": "DescriptionStyleModel",
            "_view_count": null,
            "_view_module": "@jupyter-widgets/base",
            "_view_module_version": "1.2.0",
            "_view_name": "StyleView",
            "description_width": ""
          }
        }
      }
    }
  },
  "cells": [
    {
      "cell_type": "markdown",
      "metadata": {
        "id": "mI00gQwWPuY6"
      },
      "source": [
        "# An introduction to inference with BERT\n",
        "Material taken from https://github.com/BramVanroy/bert-for-inference\n",
        "\n",
        "This notebook gives an example of how [BERT](https://arxiv.org/abs/1810.04805) can be used to extract\n",
        "sentence embeddings while at the same time giving some information about the model."
      ]
    },
    {
      "cell_type": "code",
      "metadata": {
        "colab": {
          "base_uri": "https://localhost:8080/"
        },
        "id": "bX3ln-NdRsCR",
        "outputId": "9ab9c80a-3837-48a5-f2aa-3ef893e1b1cf"
      },
      "source": [
        "# Official documentation: https://huggingface.co/docs/transformers/index\n",
        "!pip install transformers"
      ],
      "execution_count": null,
      "outputs": [
        {
          "output_type": "stream",
          "name": "stdout",
          "text": [
            "Requirement already satisfied: transformers in /usr/local/lib/python3.10/dist-packages (4.41.0)\n",
            "Requirement already satisfied: filelock in /usr/local/lib/python3.10/dist-packages (from transformers) (3.14.0)\n",
            "Requirement already satisfied: huggingface-hub<1.0,>=0.23.0 in /usr/local/lib/python3.10/dist-packages (from transformers) (0.23.1)\n",
            "Requirement already satisfied: numpy>=1.17 in /usr/local/lib/python3.10/dist-packages (from transformers) (1.25.2)\n",
            "Requirement already satisfied: packaging>=20.0 in /usr/local/lib/python3.10/dist-packages (from transformers) (24.0)\n",
            "Requirement already satisfied: pyyaml>=5.1 in /usr/local/lib/python3.10/dist-packages (from transformers) (6.0.1)\n",
            "Requirement already satisfied: regex!=2019.12.17 in /usr/local/lib/python3.10/dist-packages (from transformers) (2023.12.25)\n",
            "Requirement already satisfied: requests in /usr/local/lib/python3.10/dist-packages (from transformers) (2.31.0)\n",
            "Requirement already satisfied: tokenizers<0.20,>=0.19 in /usr/local/lib/python3.10/dist-packages (from transformers) (0.19.1)\n",
            "Requirement already satisfied: safetensors>=0.4.1 in /usr/local/lib/python3.10/dist-packages (from transformers) (0.4.3)\n",
            "Requirement already satisfied: tqdm>=4.27 in /usr/local/lib/python3.10/dist-packages (from transformers) (4.66.4)\n",
            "Requirement already satisfied: fsspec>=2023.5.0 in /usr/local/lib/python3.10/dist-packages (from huggingface-hub<1.0,>=0.23.0->transformers) (2023.6.0)\n",
            "Requirement already satisfied: typing-extensions>=3.7.4.3 in /usr/local/lib/python3.10/dist-packages (from huggingface-hub<1.0,>=0.23.0->transformers) (4.11.0)\n",
            "Requirement already satisfied: charset-normalizer<4,>=2 in /usr/local/lib/python3.10/dist-packages (from requests->transformers) (3.3.2)\n",
            "Requirement already satisfied: idna<4,>=2.5 in /usr/local/lib/python3.10/dist-packages (from requests->transformers) (3.7)\n",
            "Requirement already satisfied: urllib3<3,>=1.21.1 in /usr/local/lib/python3.10/dist-packages (from requests->transformers) (2.0.7)\n",
            "Requirement already satisfied: certifi>=2017.4.17 in /usr/local/lib/python3.10/dist-packages (from requests->transformers) (2024.2.2)\n"
          ]
        }
      ]
    },
    {
      "cell_type": "code",
      "metadata": {
        "pycharm": {
          "is_executing": false,
          "name": "#%%\n"
        },
        "id": "nE84QQE0PuY-"
      },
      "source": [
        "import torch\n",
        "from transformers import BertModel, BertTokenizer"
      ],
      "execution_count": null,
      "outputs": []
    },
    {
      "cell_type": "markdown",
      "metadata": {
        "id": "veag_2KyPuY_"
      },
      "source": [
        "## The tokenizer\n",
        "\n",
        "A deep learning model works with tensors. Tensors are vectors. Vectors are a bunch of\n",
        "numbers. To get started, then, the input text (string) needs to be converted into some data type (numbers)\n",
        "that the model can use. This is done by the tokenizer."
      ]
    },
    {
      "cell_type": "code",
      "metadata": {
        "pycharm": {
          "is_executing": false,
          "name": "#%%\n"
        },
        "id": "LqR6uVh1PuY_",
        "colab": {
          "base_uri": "https://localhost:8080/",
          "height": 304,
          "referenced_widgets": [
            "e362eb09f952401ca017a1ebd189bc4a",
            "f0dc80d6f25b4027ae61ec5a16a2fd45",
            "ca3b3c579dff4e67833811ef48e45f44",
            "162ada6161644a849ed42158f38a6576",
            "bdd160b8d0fe47a78d52d6cc63806370",
            "43775942b9754e8cbe6181d005505780",
            "9156cd689ccb41bbb3bb13f7f306c615",
            "a0ba3b21a4394373bff9965b7d680d64",
            "86483e77048c4939b8967e6f448a9982",
            "84f991753f204b9b94f3fc709ff555e3",
            "836bed3ff038486cbe3bad86e08876c4",
            "e5ca8da7550946ad8c0342624611489b",
            "8108749c913640a1b85240c6a52aaf88",
            "8d3a22f6cbe14e94a240ec5957b5b710",
            "7970aea63afd4e5c8ed61309b86c8568",
            "090e63040190489e979c20618f706761",
            "ffc645628ddb475daaf3440c61c86057",
            "b7287f07a9a44d5896807b4f8650cf6f",
            "94d4a18b0b7540bebef67f37229c3de8",
            "75050ee9280c45c4ac3e182047f3a89e",
            "2cf215b8173642d49ce0b75f6cdddf10",
            "2efae0103752469ead2849adce1d61d8",
            "a62e8f97f9564b979e73ea2056eb45d8",
            "98c30334dcfa48cdbb130e2415e80bee",
            "8aabe341bec14b1eb1bdd548f8c61ae0",
            "b514da937d9c4891bfe78386c539670c",
            "53a7c72b250743dbb99348685fb48133",
            "96ac0e71219741588ec97b69f09dff1c",
            "deb2ae928a9d49578ec3d5c6e9ef883f",
            "a860eec052284a1eac2befb018f7660f",
            "7dcd83e3b945440cbbe4f3bb109a90c4",
            "874d2e06bd7743a5902b7a42eccd3556",
            "9d3a31d63ff94b3781e5ef1be1dc7d1d",
            "aa6f97eaf46c4266ae04bf2f09d2607b",
            "6af311c9d159427bbe63f5aac4e8a0b2",
            "ddab3404e90f4dec832f4ec0a0485379",
            "300744fdfc6c4c179d2f18b345443700",
            "d2d99e933a824230a7978cc388a65d89",
            "f7077a538f5b477084a9595c7616cc6c",
            "22a77a76fcb44ba8978eaacf06c01443",
            "acbd811eab904556ab5a1c1dc2b8f0a2",
            "c7da429d091c4b20b784d2aa3ca79175",
            "f1b33cfb7ec7444993e3726dd6f7d205",
            "0d85aae5326d4e26bab2ba871413336d"
          ]
        },
        "outputId": "e3412f7c-7046-414c-9787-c1fdfc97a7d0"
      },
      "source": [
        "# Initialize the tokenizer with a pretrained model\n",
        "tokenizer = BertTokenizer.from_pretrained('bert-base-uncased')"
      ],
      "execution_count": null,
      "outputs": [
        {
          "output_type": "stream",
          "name": "stderr",
          "text": [
            "/usr/local/lib/python3.10/dist-packages/huggingface_hub/utils/_token.py:89: UserWarning: \n",
            "The secret `HF_TOKEN` does not exist in your Colab secrets.\n",
            "To authenticate with the Hugging Face Hub, create a token in your settings tab (https://huggingface.co/settings/tokens), set it as secret in your Google Colab and restart your session.\n",
            "You will be able to reuse this secret in all of your notebooks.\n",
            "Please note that authentication is recommended but still optional to access public models or datasets.\n",
            "  warnings.warn(\n"
          ]
        },
        {
          "output_type": "display_data",
          "data": {
            "text/plain": [
              "tokenizer_config.json:   0%|          | 0.00/48.0 [00:00<?, ?B/s]"
            ],
            "application/vnd.jupyter.widget-view+json": {
              "version_major": 2,
              "version_minor": 0,
              "model_id": "e362eb09f952401ca017a1ebd189bc4a"
            }
          },
          "metadata": {}
        },
        {
          "output_type": "display_data",
          "data": {
            "text/plain": [
              "vocab.txt:   0%|          | 0.00/232k [00:00<?, ?B/s]"
            ],
            "application/vnd.jupyter.widget-view+json": {
              "version_major": 2,
              "version_minor": 0,
              "model_id": "e5ca8da7550946ad8c0342624611489b"
            }
          },
          "metadata": {}
        },
        {
          "output_type": "display_data",
          "data": {
            "text/plain": [
              "tokenizer.json:   0%|          | 0.00/466k [00:00<?, ?B/s]"
            ],
            "application/vnd.jupyter.widget-view+json": {
              "version_major": 2,
              "version_minor": 0,
              "model_id": "a62e8f97f9564b979e73ea2056eb45d8"
            }
          },
          "metadata": {}
        },
        {
          "output_type": "stream",
          "name": "stderr",
          "text": [
            "/usr/local/lib/python3.10/dist-packages/huggingface_hub/file_download.py:1132: FutureWarning: `resume_download` is deprecated and will be removed in version 1.0.0. Downloads always resume when possible. If you want to force a new download, use `force_download=True`.\n",
            "  warnings.warn(\n"
          ]
        },
        {
          "output_type": "display_data",
          "data": {
            "text/plain": [
              "config.json:   0%|          | 0.00/570 [00:00<?, ?B/s]"
            ],
            "application/vnd.jupyter.widget-view+json": {
              "version_major": 2,
              "version_minor": 0,
              "model_id": "aa6f97eaf46c4266ae04bf2f09d2607b"
            }
          },
          "metadata": {}
        }
      ]
    },
    {
      "cell_type": "markdown",
      "metadata": {
        "pycharm": {
          "name": "#%% md\n"
        },
        "id": "9fT38j0tPuZA"
      },
      "source": [
        "During pretraining, the tokenizer has been \"trained\" as well. It has generated a vocabulary that it \"knows\". Each word\n",
        "has been assigned an index (a number) and that number can then be used in the model. To counter the annoying problem of\n",
        "words that the tokenizer doesn't know yet (out-of-vocabulary or OOV), a special technique is used that ensures that the\n",
        "tokenizer has learnt \"subword units\". That should mean that when using the pretrained models, you won't run into OOV\n",
        "problems. When the tokenizer does not recognize a word (it is not in its vocabulary) it will try to split that word up\n",
        "into smaller parts that it does know. The BERT tokenizer uses [WordPiece](https://arxiv.org/pdf/1609.08144.pdf)\n",
        "to split tokens. As an example, you'll see that `granola` is split into `gran` and `##ola` where `##` indicates the\n",
        "start of the substring."
      ]
    },
    {
      "cell_type": "code",
      "metadata": {
        "pycharm": {
          "is_executing": false
        },
        "id": "0SIcoJwZPuZA",
        "colab": {
          "base_uri": "https://localhost:8080/"
        },
        "outputId": "ec15034c-4cc7-46e9-b5dc-f4bce75b33b0"
      },
      "source": [
        "# Convert the string \"granola bars\" to tokenized vocabulary IDs\n",
        "# tokenizer('granola bars', return_tensors='pt')\n",
        "granola_ids = tokenizer.encode('granola bars', return_tensors='pt')\n",
        "# Print the IDs\n",
        "print('granola_ids', granola_ids)\n",
        "print('type of granola_ids', type(granola_ids))\n",
        "# Convert the IDs to the actual vocabulary item\n",
        "# Notice how the subword unit (suffix) starts with \"##\" to indicate\n",
        "# that it is part of the previous string\n",
        "print('granola_tokens', tokenizer.convert_ids_to_tokens(granola_ids[0]))"
      ],
      "execution_count": null,
      "outputs": [
        {
          "output_type": "stream",
          "name": "stdout",
          "text": [
            "granola_ids tensor([[  101, 12604,  6030,  6963,   102]])\n",
            "type of granola_ids <class 'torch.Tensor'>\n",
            "granola_tokens ['[CLS]', 'gran', '##ola', 'bars', '[SEP]']\n"
          ]
        }
      ]
    },
    {
      "cell_type": "markdown",
      "metadata": {
        "pycharm": {
          "is_executing": false,
          "name": "#%% md\n"
        },
        "id": "7K_IVERWPuZB"
      },
      "source": [
        "You will probably have noticed the so-called \"special tokens\" [CLS] and [SEP]. These tokens are added automatically by\n",
        "the `.encode()` method so we don't have to worry about them. The first one is a classification token which has been\n",
        "pretrained. It is specifically inserted for any sort of classification task. So instead of having to average of all\n",
        "tokens and use that as a sentence representation, it is recommended to just take the output of the [CLS] which then\n",
        "represents the whole sentence. [SEP], on the other hand, is inserted as a separator between multiple instances. We will\n",
        "not use that here, but it used for things like next sentence prediction where it is a separator between the current and\n",
        "the next sentence. It is especially important to remember the [CLS] token as it can play a great role in classification\n",
        "and regression tasks."
      ]
    },
    {
      "cell_type": "markdown",
      "metadata": {
        "pycharm": {
          "name": "#%% md\n"
        },
        "id": "2pcixCPQPuZC"
      },
      "source": [
        "## The model\n",
        "Now that we have preprocessed our input string into a tensor of IDs, we can feed this to the model. Remember that the\n",
        "IDs are the IDs of a token in the tokenizer's vocabulary. The model \"knows\" which words are being processed because it\n",
        "\"knows\" which token belongs to which ID. In BERT, and in most - if not all - current transformer language models, the\n",
        "first layer is an embedding layer. Each token ID has a embeddings appointed to it. In BERT, the embeddings are the sum\n",
        "of three types of embeddings: the token embedding, the segment embedding, and the position embedding. The token\n",
        "embedding is a value for the given token, the segment embedding indicates whether the segment is the first or the\n",
        "(optional) second one, and the positional embedding distinguishes the position in the input. Below you find a figure\n",
        "from the BERT paper. (See how playing is split in \"play\" and \"##ing\"?) Note that in our case, where we just use BERT\n",
        "for inference of a single sentence, the segmentation embedding is of no importance. For more information, see\n",
        "[this Medium article](https://medium.com/@_init_/why-bert-has-3-embedding-layers-and-their-implementation-details-9c261108e28a).  We'll come back to the model architecture later on.\n",
        "\n",
        "![BERT embeddings visualization](https://drive.google.com/uc?export=view&id=1xg3Ufi5ht2OBYvXqmZZ6BrkDUY9Jbc-A)\n",
        "\n",
        "(For a very detailed and visual explanation of the whole BERT model, have a look at the explanations on\n",
        "[Jay Alammar's homepage](http://jalammar.github.io/). In particular the \"Illustrated transformer\" is very interesting.)"
      ]
    },
    {
      "cell_type": "markdown",
      "metadata": {
        "id": "2rSO6AxKPuZC"
      },
      "source": [
        "To get started, we first need to initialize the model. Just like the tokenizer, the model is pretrained which makes it\n",
        "very easy for us to just use the pretrained language model to get some token or sentence representations out of it.\n",
        "Note how we use the same pretrained model as the tokenizer uses (`bert-base-uncased`). This is the smaller BERT model\n",
        "that has been trained on lower case text. Because the model has been trained on lower case text, it does not know cased\n",
        "text. You may have noticed that the tokenizer automatically lowercases the text for us. Whether to use a cased or\n",
        "uncased language model really depends on the task. If you think that casing matters (e.g. for NER), you may want to\n",
        "opt for a cased model, otherwise casing might just add noise.\n",
        "\n",
        "In the example below, an additional argument has been given to the model initialisation. `output_hidden_states` will\n",
        "give us more output information.\n",
        "\n",
        "1. the last hidden state `(batch_size, sequence_length, hidden_size)`\n",
        "2. the pooler_output of the classification token `(batch_size, hidden_size)`\n",
        "3. the hidden_states of the outputs of the model at each layer and the initial embedding outputs\n",
        "   `(batch_size, sequence_length, hidden_size)`\n",
        "\n",
        "Graphic cards (GPUs) are much better at doing operations on tensors than a CPU is. Therefore, we wish to run our\n",
        "computations on the GPU if it is available. Note that you need to have a GPU available as well as CUDA, and a\n",
        "GPU-accelerated torch version. To increase the calculation speed, we have to move our model to the correct device:\n",
        "if it's available we'll move the model `.to()` the GPU, otherwise it'll stay on the CPU. It is important to remember\n",
        "that the model and the data to process need to be on the same device. This means that we will have to move our\n",
        "`granola_ids` to the same device as the model, too.\n",
        "\n",
        "Finally, we also set the model to evaluation mode (`.eval`) in contrast to training mode (`.train()`). In evluation\n",
        "mode, the model's batchnorm and dropout layers will work in `eval()` mode, e.g. disabling dropout, which you only want\n",
        "during training."
      ]
    },
    {
      "cell_type": "code",
      "metadata": {
        "pycharm": {
          "is_executing": false,
          "name": "#%%\n"
        },
        "id": "PRbWlyj0PuZD",
        "colab": {
          "base_uri": "https://localhost:8080/",
          "height": 761,
          "referenced_widgets": [
            "565b80ad9f5d4845a6b2f4d364a74c34",
            "5305ac34bcd5454db1e66b8299144b23",
            "424a033bf36b43eb86d2abfc4b7dc799",
            "8107d40fbbb347f995c3fada77fa06b8",
            "6ad52513424245e594344043bb6cc518",
            "8fe0a5d6f8e04ecf8b13b973328ab686",
            "0e5193ee3f37469eb4f52ec2f647f886",
            "34a37b1892ed43759d2cd1bbb43a7022",
            "58bec46f23c94432add3f3120d4bb4cd",
            "955f78cbcea74544a03c0ff274803bb1",
            "4095b94957844805b297f80ebd23c5df"
          ]
        },
        "outputId": "3455401d-84bf-4e5b-ec9e-fef2b4f43f0e"
      },
      "source": [
        "model = BertModel.from_pretrained('bert-base-uncased', output_hidden_states=True)\n",
        "# Set the device to GPU (cuda) if available, otherwise stick with CPU\n",
        "device = 'cuda' if torch.cuda.is_available() else 'cpu'\n",
        "\n",
        "model = model.to(device)\n",
        "granola_ids = granola_ids.to(device)\n",
        "\n",
        "model.eval()"
      ],
      "execution_count": null,
      "outputs": [
        {
          "output_type": "display_data",
          "data": {
            "text/plain": [
              "model.safetensors:   0%|          | 0.00/440M [00:00<?, ?B/s]"
            ],
            "application/vnd.jupyter.widget-view+json": {
              "version_major": 2,
              "version_minor": 0,
              "model_id": "565b80ad9f5d4845a6b2f4d364a74c34"
            }
          },
          "metadata": {}
        },
        {
          "output_type": "execute_result",
          "data": {
            "text/plain": [
              "BertModel(\n",
              "  (embeddings): BertEmbeddings(\n",
              "    (word_embeddings): Embedding(30522, 768, padding_idx=0)\n",
              "    (position_embeddings): Embedding(512, 768)\n",
              "    (token_type_embeddings): Embedding(2, 768)\n",
              "    (LayerNorm): LayerNorm((768,), eps=1e-12, elementwise_affine=True)\n",
              "    (dropout): Dropout(p=0.1, inplace=False)\n",
              "  )\n",
              "  (encoder): BertEncoder(\n",
              "    (layer): ModuleList(\n",
              "      (0-11): 12 x BertLayer(\n",
              "        (attention): BertAttention(\n",
              "          (self): BertSdpaSelfAttention(\n",
              "            (query): Linear(in_features=768, out_features=768, bias=True)\n",
              "            (key): Linear(in_features=768, out_features=768, bias=True)\n",
              "            (value): Linear(in_features=768, out_features=768, bias=True)\n",
              "            (dropout): Dropout(p=0.1, inplace=False)\n",
              "          )\n",
              "          (output): BertSelfOutput(\n",
              "            (dense): Linear(in_features=768, out_features=768, bias=True)\n",
              "            (LayerNorm): LayerNorm((768,), eps=1e-12, elementwise_affine=True)\n",
              "            (dropout): Dropout(p=0.1, inplace=False)\n",
              "          )\n",
              "        )\n",
              "        (intermediate): BertIntermediate(\n",
              "          (dense): Linear(in_features=768, out_features=3072, bias=True)\n",
              "          (intermediate_act_fn): GELUActivation()\n",
              "        )\n",
              "        (output): BertOutput(\n",
              "          (dense): Linear(in_features=3072, out_features=768, bias=True)\n",
              "          (LayerNorm): LayerNorm((768,), eps=1e-12, elementwise_affine=True)\n",
              "          (dropout): Dropout(p=0.1, inplace=False)\n",
              "        )\n",
              "      )\n",
              "    )\n",
              "  )\n",
              "  (pooler): BertPooler(\n",
              "    (dense): Linear(in_features=768, out_features=768, bias=True)\n",
              "    (activation): Tanh()\n",
              "  )\n",
              ")"
            ]
          },
          "metadata": {},
          "execution_count": 5
        }
      ]
    },
    {
      "cell_type": "markdown",
      "metadata": {
        "pycharm": {
          "name": "#%% md\n"
        },
        "id": "-PCXZaCWPuZD"
      },
      "source": [
        "## Inference\n",
        "The model has been initialized, and the input string has been converted into a tensor. A language model (such as\n",
        "`BertModel` above) has a `forward()` method that is called automatically when calling the object. The forward method\n",
        "basically pushes a given input tensor forward through the model and then returns the output. Since we're only doing\n",
        "inference and not training or fine-tuning the model, this is the only step that involves the model directly to get\n",
        "output. So we don't need to optimize the model (calculate gradients, propagating back). That's quite simple, isn't it?\n",
        "One pecularity is that we set `torch.no_grad()`. This tells the model that we won't be doing any gradient\n",
        "calculation/backpropagation. Ultimately, it makes inference faster and more memory-efficient. You would typically use\n",
        "`model.eval()` (see above) and `torch.no_grad()` together for evaluation and testing of your model. When training the\n",
        "model should be set to `model.train()` and `torch.no_grad()` should *not* be used.\n",
        "\n",
        "A batch consists of multiple input texts at \"the same time\" (typically of the power of two, e.g. 64). With a batch size\n",
        "of 64 (64 sentences at once), the batch size would be `(64, n)` where `64` is the number of sentences, and `n` the\n",
        "sequence length. In this notebook, where we only ever use one input, the following is not important, but if you ever\n",
        "want to fine-tune a model, you'll want to work with batches since the gradient calculation will be better for large\n",
        "batches. In such cases, `n` needs to be the same for all entries; you cannot have one sequence of 5 items and one of\n",
        "12 items. That is where padding comes in - but that is a story for another day. For now, you can remember that the\n",
        "input size of the model needs to be `(n_input_sentences, seq_len)` where `seq_len` can be determined in different ways.\n",
        "Two popular choices are: using the longest text in the batch as `seq_len` (e.g. 12) and padding shorter texts up to\n",
        "this length, or setting a fixed maximal sequence length for the model (typically 512) and pad all items up to this\n",
        "length. The latter approach is easier to implement but is not memory-efficient and is computationally heavier. The\n",
        "choice, as always, is yours."
      ]
    },
    {
      "cell_type": "code",
      "metadata": {
        "pycharm": {
          "is_executing": false,
          "name": "#%%\n"
        },
        "id": "6n2KcpbMPuZE",
        "colab": {
          "base_uri": "https://localhost:8080/"
        },
        "outputId": "3c14af33-13ef-4ce0-de1e-01359ba5ebe5"
      },
      "source": [
        "with torch.no_grad():\n",
        "    out = model(input_ids=granola_ids)\n",
        "\n",
        "# the output contains three elements as explained above\n",
        "print(out.keys())\n",
        "print(len(out))\n",
        "# we only want the hidden_states\n",
        "hidden_states = out[2]\n",
        "print(len(hidden_states))"
      ],
      "execution_count": null,
      "outputs": [
        {
          "output_type": "stream",
          "name": "stdout",
          "text": [
            "odict_keys(['last_hidden_state', 'pooler_output', 'hidden_states'])\n",
            "3\n",
            "13\n"
          ]
        }
      ]
    },
    {
      "cell_type": "code",
      "source": [
        "hidden_states[0].shape"
      ],
      "metadata": {
        "colab": {
          "base_uri": "https://localhost:8080/"
        },
        "id": "LmWHZafAraAU",
        "outputId": "c676dfe2-675d-485a-de1f-48b8035926b3"
      },
      "execution_count": null,
      "outputs": [
        {
          "output_type": "execute_result",
          "data": {
            "text/plain": [
              "torch.Size([1, 5, 768])"
            ]
          },
          "metadata": {},
          "execution_count": 9
        }
      ]
    },
    {
      "cell_type": "markdown",
      "source": [
        "![BERT embeddings visualization](https://drive.google.com/uc?export=view&id=1imjsiMyl2ypLg8_C72-aqTUxGfIFzP5R)"
      ],
      "metadata": {
        "id": "ptJ3gxOKtzk-"
      }
    },
    {
      "cell_type": "markdown",
      "metadata": {
        "pycharm": {
          "is_executing": false,
          "name": "#%% md\n"
        },
        "id": "u7aGxAkIPuZE"
      },
      "source": [
        "As discussed above, we push the IDs of our input tokens through the `model()`, which internally calls the model's\n",
        "`forward()` method. `out` contains all relevant output items (see the list that we discussed earlier on). For us\n",
        "the third item is the most important one; it contains all `hidden_states` of the model after a forward\n",
        "pass. `hidden_states` is a tuple of the output of each layer in the model for each token. In the previous\n",
        "cell we saw that the tuple contains 13 items. When you execute the cell below, the architecture of the BertModel is\n",
        "shown (from top-down to the bottom). The `hidden_states` include the output of the `embeddings` layer and the output of\n",
        "all 12 `BertLayer`'s in the encoder. The output of each layer has a size of `(batch_size, sequence_length, 768)`.\n",
        "In our case, that is `(1, 5, 768)` because we only have one input string (batch size of 1), and our input string was\n",
        "tokenized into five IDs (sequence length of 5). `768` is the number of hidden dimensions.\n",
        "\n",
        "The critical reader will notice that there is still one more layer after the encoder, called `pooler`, which is not\n",
        "part of `hidden_states`. This layer is used to \"pool\" the output of the classification token but we will not use that\n",
        "here. Its output is returned in the second item of the output `out`, as discussed before.\n",
        "\n",
        "For an in-depth analysis of BERT's architecture, I'd\n",
        "recommend to read [the paper](https://arxiv.org/abs/1810.04805). However, if you like a more visual explanation,\n",
        "[The Illustrated BERT](http://jalammar.github.io/illustrated-bert/) might be a better place to start."
      ]
    },
    {
      "cell_type": "code",
      "metadata": {
        "pycharm": {
          "is_executing": false,
          "name": "#%% \n"
        },
        "id": "oHgJJlRoPuZE",
        "colab": {
          "base_uri": "https://localhost:8080/"
        },
        "outputId": "addc57da-d84b-4a38-cf71-6595137c4904"
      },
      "source": [
        "print(model)"
      ],
      "execution_count": null,
      "outputs": [
        {
          "output_type": "stream",
          "name": "stdout",
          "text": [
            "BertModel(\n",
            "  (embeddings): BertEmbeddings(\n",
            "    (word_embeddings): Embedding(30522, 768, padding_idx=0)\n",
            "    (position_embeddings): Embedding(512, 768)\n",
            "    (token_type_embeddings): Embedding(2, 768)\n",
            "    (LayerNorm): LayerNorm((768,), eps=1e-12, elementwise_affine=True)\n",
            "    (dropout): Dropout(p=0.1, inplace=False)\n",
            "  )\n",
            "  (encoder): BertEncoder(\n",
            "    (layer): ModuleList(\n",
            "      (0-11): 12 x BertLayer(\n",
            "        (attention): BertAttention(\n",
            "          (self): BertSdpaSelfAttention(\n",
            "            (query): Linear(in_features=768, out_features=768, bias=True)\n",
            "            (key): Linear(in_features=768, out_features=768, bias=True)\n",
            "            (value): Linear(in_features=768, out_features=768, bias=True)\n",
            "            (dropout): Dropout(p=0.1, inplace=False)\n",
            "          )\n",
            "          (output): BertSelfOutput(\n",
            "            (dense): Linear(in_features=768, out_features=768, bias=True)\n",
            "            (LayerNorm): LayerNorm((768,), eps=1e-12, elementwise_affine=True)\n",
            "            (dropout): Dropout(p=0.1, inplace=False)\n",
            "          )\n",
            "        )\n",
            "        (intermediate): BertIntermediate(\n",
            "          (dense): Linear(in_features=768, out_features=3072, bias=True)\n",
            "          (intermediate_act_fn): GELUActivation()\n",
            "        )\n",
            "        (output): BertOutput(\n",
            "          (dense): Linear(in_features=3072, out_features=768, bias=True)\n",
            "          (LayerNorm): LayerNorm((768,), eps=1e-12, elementwise_affine=True)\n",
            "          (dropout): Dropout(p=0.1, inplace=False)\n",
            "        )\n",
            "      )\n",
            "    )\n",
            "  )\n",
            "  (pooler): BertPooler(\n",
            "    (dense): Linear(in_features=768, out_features=768, bias=True)\n",
            "    (activation): Tanh()\n",
            "  )\n",
            ")\n"
          ]
        }
      ]
    },
    {
      "cell_type": "markdown",
      "metadata": {
        "pycharm": {
          "name": "#%% md\n"
        },
        "id": "rmSOVEnQPuZE"
      },
      "source": [
        "Now that we have all hidden_states, we may want to get a usable value out of it. Let's say that we want to retrieve a\n",
        "sentence embedding by averaging over all tokens. In other words, we want to reduce the size of `(1, 5, 768)` to\n",
        "`(1, 768)` where `1` is the batch size and `768` is the number of hidden dimensions. (One could also call `768` the\n",
        "features that you wish to use in another task.) There are many ways to make a sentence abstraction of tokens, and it\n",
        "often depends on the given task. Here, we will take the mean. For now, we will only use the output of the last layer in\n",
        "the encoder, that is, `hidden_states[-1]`. It is important to indicate that we want to take the `torch.mean`\n",
        "_over a given axis_. Since the size of the output of the layers is `(1, 5, 768)`, we want to average over the five\n",
        "tokens, which are in the second dimension (`dim=1`)."
      ]
    },
    {
      "cell_type": "code",
      "metadata": {
        "pycharm": {
          "is_executing": false,
          "name": "#%%\n"
        },
        "id": "cJ0mGgxIPuZF",
        "colab": {
          "base_uri": "https://localhost:8080/"
        },
        "outputId": "2fe4dde3-067c-4585-a7cc-a98ea8430abf"
      },
      "source": [
        "sentence_embedding = torch.mean(hidden_states[-1], dim=1).squeeze()\n",
        "print(sentence_embedding)\n",
        "print(sentence_embedding.size())"
      ],
      "execution_count": null,
      "outputs": [
        {
          "output_type": "stream",
          "name": "stdout",
          "text": [
            "tensor([ 2.7497e-01,  1.8313e-01, -8.8651e-02,  2.1698e-01,  3.1942e-01,\n",
            "        -1.1412e-01,  7.4040e-02,  3.7655e-01, -4.1821e-01,  9.9971e-02,\n",
            "        -9.0242e-02, -2.4298e-01,  1.5542e-01,  4.2042e-01, -2.5547e-01,\n",
            "         2.9753e-01, -2.9643e-01, -2.5810e-02,  8.5306e-02,  1.0182e-01,\n",
            "         3.0401e-01, -4.4263e-01,  3.1250e-02,  1.4435e-01,  3.0189e-01,\n",
            "         7.3913e-02, -2.5580e-01,  3.1384e-01, -1.4688e-01, -1.5202e-01,\n",
            "         7.0785e-02,  4.0448e-01, -1.1769e-01,  3.1848e-01,  2.8022e-02,\n",
            "        -1.6934e-01,  3.5639e-01, -2.2931e-01, -1.1899e-01, -1.1182e-01,\n",
            "        -1.6003e-01,  7.9354e-02,  5.1107e-01,  5.2223e-02, -1.5481e-01,\n",
            "         2.8229e-02, -1.4365e-01, -4.7737e-01, -5.6638e-01, -4.8803e-01,\n",
            "        -1.1429e-01,  2.8087e-01, -5.7160e-02,  2.3862e-01,  3.5440e-01,\n",
            "         5.8238e-01,  1.2777e-01,  1.0363e-01,  3.0538e-01,  2.0989e-01,\n",
            "         1.1693e-01,  2.6346e-01, -1.5832e-01, -1.1380e-01,  1.7189e-02,\n",
            "        -3.4662e-02,  1.1470e-01,  3.2024e-02, -1.9781e-01, -1.2561e-01,\n",
            "        -4.8290e-02, -2.4562e-01,  5.0638e-03, -2.4147e-02,  2.2932e-01,\n",
            "        -1.9112e-01, -4.4624e-01,  8.6931e-02, -6.9348e-02, -2.6828e-01,\n",
            "         3.0473e-01,  3.3020e-01,  1.4786e-01,  3.7107e-01, -7.5338e-02,\n",
            "         3.3730e-01, -2.6694e-01, -1.1731e-01,  7.5013e-02,  4.6462e-01,\n",
            "        -1.4554e-01,  2.2035e-02,  3.7995e-01,  3.0877e-01,  3.8794e-01,\n",
            "        -5.0270e-02, -8.4905e-02, -1.6390e-01,  5.2378e-01,  1.8882e-01,\n",
            "         2.1467e-02, -8.5597e-02,  2.4094e-01,  3.2501e-01, -2.4542e-01,\n",
            "        -2.2705e-01, -2.5746e-01,  2.9763e-01, -1.7600e-02, -8.6889e-01,\n",
            "         1.7624e-01,  2.9194e-02,  7.0749e-02, -2.1513e-01, -3.4476e-01,\n",
            "        -1.7142e-01,  3.5134e-01,  3.5487e-01, -1.6037e-01,  2.3332e-01,\n",
            "        -1.6640e-01,  1.5522e-02, -1.3603e-01,  9.8263e-01, -1.6572e-01,\n",
            "         8.6756e-02,  1.7275e-02,  3.1124e-02,  4.5488e-01,  9.1419e-02,\n",
            "        -1.2291e-01,  2.6948e-01,  7.5360e-02,  8.1167e-02, -2.8039e-01,\n",
            "         8.6070e-02,  2.8713e-01, -3.2012e-01, -1.0920e-01, -3.4677e-01,\n",
            "        -2.3220e-01,  1.7452e-01, -8.9247e-01, -3.8039e-01,  1.6933e-01,\n",
            "        -4.0088e-02,  7.6205e-02,  2.0971e-01,  4.3188e-01, -5.6367e-02,\n",
            "         4.2553e-01,  6.6853e-02, -4.0933e-01,  2.4338e-01, -9.9158e-02,\n",
            "        -1.1955e-01, -3.4792e-01, -7.9456e-02,  2.1929e-01,  3.0778e-01,\n",
            "         3.1282e-01,  8.8516e-02,  1.4369e-01,  1.2768e-02, -2.3661e-01,\n",
            "        -2.5115e-01, -1.8090e-02,  9.1525e-02,  2.6662e-03,  3.7868e-01,\n",
            "        -1.7585e-01, -1.7576e-01,  4.4584e-01, -3.5462e-01, -3.4920e-01,\n",
            "         4.2924e-02,  1.1444e-02,  5.6267e-01,  5.9519e-03,  4.5876e-02,\n",
            "        -1.8924e+00,  6.9178e-02,  4.4243e-01, -1.2978e-02,  3.2357e-01,\n",
            "        -5.8830e-03,  5.9261e-01, -6.0558e-01,  1.8617e-01, -3.9271e-01,\n",
            "         2.7042e-01, -3.7876e-01, -2.2174e-01,  1.2153e-01,  3.6275e-01,\n",
            "        -1.9326e-01,  6.0437e-02, -3.5042e-01,  1.2261e-01, -4.3830e-02,\n",
            "        -1.9312e-01,  1.5187e-01,  1.3780e-01, -9.7900e-02, -3.7317e-01,\n",
            "         1.2430e+00,  3.2932e-01, -1.9085e-01,  2.1563e-01, -1.0158e-01,\n",
            "        -1.9931e-01,  4.1641e-01,  7.6541e-02, -2.9979e-01, -6.5529e-03,\n",
            "        -7.7947e-02,  4.2811e-03, -5.3286e-02, -2.8932e-01, -3.4238e-01,\n",
            "         2.9741e-01, -7.0199e-02, -4.5928e-01,  2.9630e-01, -2.5724e-01,\n",
            "        -1.6242e-01, -8.9294e-02,  1.3588e-01,  1.9840e-01,  7.3456e-02,\n",
            "         2.5922e-01,  1.7004e-01,  1.0998e-01,  2.1080e-01, -3.7167e-01,\n",
            "         8.9601e-02, -2.4095e-02,  3.9413e-02,  9.6414e-02, -3.9217e-01,\n",
            "        -1.8365e-01,  1.1395e-01,  4.8770e-01,  1.1217e-03, -1.9569e-01,\n",
            "        -1.2228e-02,  3.1669e-01,  2.1529e-01,  2.5503e-01, -2.3742e-01,\n",
            "         3.5058e-02, -8.1064e-01,  2.4616e-03, -2.6651e-01,  4.3942e-01,\n",
            "         1.9389e-02,  6.3595e-02, -2.3803e-01,  9.2668e-02,  1.8258e-01,\n",
            "        -3.8494e-02,  2.3593e-01,  5.7420e-01, -2.0413e-01, -4.4064e-01,\n",
            "         5.3444e-02, -1.5976e-01,  1.8722e-02, -1.0571e-01,  1.6751e-01,\n",
            "        -5.6544e-02,  3.5808e-02, -1.6339e-01, -1.2839e+00, -1.0260e-01,\n",
            "        -6.7205e-02,  1.2519e-01,  9.1995e-02, -4.3033e-02, -7.7112e-02,\n",
            "        -1.9279e-01,  4.8786e-01, -4.6132e-02,  2.3583e-01, -5.8109e-01,\n",
            "        -3.5453e-01, -1.2584e-01, -1.9347e-01, -1.5997e-02,  8.0766e-02,\n",
            "         7.3318e-03,  3.1523e-01, -4.2058e-01, -2.6260e-01, -2.7528e-02,\n",
            "        -1.1586e-01,  5.3810e-03,  4.3207e-01,  2.3537e-01, -5.6140e-01,\n",
            "        -9.4500e-02, -1.6396e-01,  1.5114e-01,  2.6866e-01, -5.2128e-02,\n",
            "         2.1231e-01, -1.9070e-02, -3.1587e-01, -3.1075e+00, -9.8635e-02,\n",
            "        -2.5031e-01, -4.1425e-01,  2.7540e-01, -5.0086e-01, -1.8764e-01,\n",
            "        -1.1095e-01, -3.1184e-01, -1.1116e-01, -3.4540e-01, -2.2962e-01,\n",
            "         2.4196e-01,  2.2008e-01,  2.9891e-01, -1.4837e-01,  2.3513e-01,\n",
            "        -1.4459e-01, -7.1072e-02,  3.1104e-01,  8.4301e-02, -4.1443e-01,\n",
            "         1.9445e-01, -1.7383e-01,  1.0017e-01,  3.1795e-01, -2.7422e-01,\n",
            "         3.4965e-01, -4.7570e-01, -1.1109e-01, -4.1904e-01,  1.8018e-01,\n",
            "        -3.4424e-01, -4.1224e-01,  3.8817e-01,  5.1788e-02, -5.0654e-01,\n",
            "         1.2701e-01,  5.8633e-01, -7.6472e-02,  1.5943e-01,  4.0271e-01,\n",
            "        -1.7491e-01,  8.8953e-02,  4.1439e-01,  7.0470e-02, -2.2776e-01,\n",
            "        -5.2665e-01, -4.8419e-02,  4.7993e-01,  2.6683e-01,  5.4173e-02,\n",
            "         3.4134e-01, -2.9445e-02,  2.8612e-01, -1.2683e-01,  3.2365e-01,\n",
            "         1.5207e-02,  7.5879e-02, -2.1957e-01,  4.3722e-01, -1.9480e-01,\n",
            "        -1.4549e-01,  2.1158e-01, -1.9193e-01,  8.2930e-02, -2.9274e-01,\n",
            "        -3.1519e-02,  8.2016e-02,  1.0615e-02, -2.1728e-01, -2.4810e-01,\n",
            "         8.3924e-02, -9.3397e-01,  9.7815e-02, -8.4304e-02, -1.4857e-01,\n",
            "        -5.1369e-02,  3.3001e-01,  1.8646e-01,  1.0419e-01, -2.0374e-01,\n",
            "        -3.7992e-02, -1.5000e-01,  4.2840e-02, -1.1730e-01, -4.0050e-01,\n",
            "        -2.3397e-01, -7.2866e-01, -3.5928e-01,  4.2980e-01,  2.0247e-01,\n",
            "         4.7776e-02, -1.8988e-01,  1.4026e-01,  4.7262e-01,  2.9465e-01,\n",
            "        -4.6721e-01,  4.3352e-02, -1.1868e-01, -7.1534e-01, -3.5330e-01,\n",
            "         6.3016e-01, -4.8528e-01, -3.8961e-02, -2.2114e-01, -2.4189e-01,\n",
            "        -6.2859e-02, -1.5963e-01, -1.5015e-01,  2.2636e-01, -2.9310e-01,\n",
            "         1.4918e-01, -2.4853e-01,  1.8756e-01, -1.7818e-01,  1.5790e-02,\n",
            "         8.9519e-01, -9.1420e-02,  3.9348e-01,  3.9633e-02,  4.3769e-01,\n",
            "         8.2128e-02, -2.6583e-01,  1.0719e-01,  2.4877e-01,  4.1521e-01,\n",
            "        -3.0047e-01,  1.6897e-01, -1.7872e-01, -1.7884e-01, -3.6050e-02,\n",
            "         6.8344e-02, -3.4804e-01, -9.3207e-02, -3.3487e-02, -1.9079e-01,\n",
            "        -4.7731e-02,  2.1589e-01, -1.7649e-02,  1.0272e-01,  2.2214e-01,\n",
            "         2.4597e-02,  8.8886e-02, -1.9065e-02,  4.7940e-01,  1.7633e-01,\n",
            "         4.2462e-02,  4.0794e-01,  1.7895e-01, -3.6609e-01, -2.2922e-01,\n",
            "         1.1337e-01, -5.0475e-01,  2.0761e-01, -5.2469e-01,  2.5813e-01,\n",
            "         2.0181e-01, -2.5736e-02, -2.3437e-01, -4.9483e-02,  9.1705e-02,\n",
            "        -6.4364e-02,  1.2149e-01, -4.1186e-01,  9.7710e-02, -1.2508e-01,\n",
            "         4.0763e-02, -3.4717e-01,  3.8143e-01,  7.6530e-02, -1.9414e-01,\n",
            "         1.8410e-01, -1.1921e-02, -2.0051e-01,  1.1443e-01,  1.8088e-01,\n",
            "        -1.7253e-01, -1.7402e-01,  1.1461e-01, -2.6830e-01, -9.8872e-02,\n",
            "         3.9775e-02,  1.3449e-01, -1.6283e-01,  2.1162e-03, -7.8610e-02,\n",
            "        -4.6200e-01,  5.7786e-01,  1.1279e-01,  1.9048e-01, -3.5723e-02,\n",
            "         2.1164e-01, -1.4711e-02, -3.3993e-01, -1.2703e-01,  1.0326e-01,\n",
            "         5.0947e-03,  3.7435e-01,  1.7189e-01,  5.8345e-01,  1.6680e-02,\n",
            "        -1.5684e-01,  1.5378e-01,  2.2153e-01, -2.6531e-01,  2.5017e-01,\n",
            "         4.2574e-01, -1.5066e-01,  2.1265e-01,  1.1999e-01, -4.2866e-01,\n",
            "         2.5087e-02,  2.5251e-01,  1.4382e-01,  2.3328e-01,  2.0313e-01,\n",
            "         1.7169e-01,  2.3620e-02,  5.1524e-02, -4.0105e-02, -2.4421e-01,\n",
            "        -3.3788e-01, -2.7906e-01,  8.5631e-02,  3.7364e-01,  3.3528e-01,\n",
            "        -2.2078e-01, -4.9874e-03,  4.2257e-02,  1.6184e-01,  2.2989e-01,\n",
            "         1.0930e-01,  9.5693e-02,  5.9743e-01,  6.8596e-01, -3.4541e-01,\n",
            "        -3.4691e-02, -4.9943e-02, -4.3828e-02, -9.8948e-03, -1.8421e-02,\n",
            "         6.7104e-02, -2.2258e-02, -2.2984e-02, -4.0703e-01,  2.6124e-01,\n",
            "         4.1154e-01, -2.2700e-02, -1.9614e-01, -9.2900e-02, -7.1759e-02,\n",
            "        -1.3627e-01, -2.9176e-01, -9.5446e-03, -2.9971e-01, -2.9886e-02,\n",
            "         4.1862e-01,  5.2152e-02,  6.1977e-02, -1.9548e-01,  1.2748e-01,\n",
            "         1.7454e-02,  2.9819e-01, -1.5988e-01,  1.5837e-02, -8.1304e-02,\n",
            "         1.8233e-02,  7.7924e-02,  1.7629e-01,  1.3150e-01, -1.5991e-01,\n",
            "         2.5084e-01,  2.5934e-01, -2.0483e-01,  3.1098e-02,  3.3086e-01,\n",
            "        -5.5236e-01, -1.7119e-02, -1.7480e-01,  5.3122e-01,  3.7780e-01,\n",
            "         1.3010e-01, -4.2269e-02,  2.4855e-01, -3.1271e-01, -5.0033e-01,\n",
            "         3.0209e-01, -5.2464e-01,  2.9336e-03,  9.4141e-01, -1.9262e-01,\n",
            "         1.2447e-02, -5.6115e-02, -3.5636e-01,  1.8700e-01, -4.5734e-02,\n",
            "         7.4748e-02, -2.0243e-01,  2.5534e-01, -3.2713e-01,  3.1265e-01,\n",
            "        -3.5376e-01, -5.1487e-02,  1.4935e-01, -3.9786e-02,  1.0336e-02,\n",
            "        -5.6745e-01, -8.2600e-02, -2.4669e-01, -1.2936e-01, -2.3212e-01,\n",
            "         7.3379e-02,  4.0745e-01, -1.6200e-01, -7.2631e-02,  1.1524e-01,\n",
            "        -1.4988e-01, -7.2059e-02,  5.8054e-01, -1.8932e-02,  1.1245e-01,\n",
            "         3.2097e-01, -2.5848e-01,  3.1161e-01,  3.9392e-01, -3.5412e-01,\n",
            "        -1.9400e-01, -1.5293e-01, -2.4102e-01, -3.0125e-02,  3.7008e-01,\n",
            "         2.2403e-01,  7.8257e-02, -2.6900e-01, -3.4572e-01, -2.6433e-03,\n",
            "         1.7713e-02, -1.1895e-01,  4.3233e-02, -8.8319e-02,  4.5468e-03,\n",
            "        -2.5439e-01,  1.4728e-01,  4.8581e-01,  4.9114e-02, -1.8314e-01,\n",
            "        -5.9602e-02,  1.2808e-01, -5.5221e-02, -2.2270e-01, -3.5185e-01,\n",
            "         9.6984e-02,  1.9694e-01, -4.9657e-02, -2.3089e-01,  9.6932e-02,\n",
            "        -5.9364e-02, -1.0977e-01, -1.0774e+00, -1.7037e-01, -5.0538e-01,\n",
            "        -1.3686e-01, -4.6037e-01,  1.6326e-01,  5.6601e-01,  6.3966e-02,\n",
            "        -2.1306e-01, -1.4903e-01,  2.7365e-01,  7.4819e-02, -5.1875e-03,\n",
            "        -5.4666e-02,  4.2225e-01, -1.0746e-01,  3.5040e-02, -3.6283e-01,\n",
            "         4.7700e-02, -3.4953e-02,  2.4087e-01, -1.5248e-02, -1.0470e-01,\n",
            "        -2.1243e-01, -5.1084e-01,  3.7811e-02, -2.0370e-01,  8.7619e-03,\n",
            "        -5.5484e-03, -1.4413e-02, -1.5388e-01,  2.1188e-01,  6.3783e-02,\n",
            "         2.0168e-01, -4.1447e-01,  1.8987e-01,  1.7409e-01,  1.5857e-01,\n",
            "         1.0427e-02, -2.3079e-01, -2.0696e-01,  1.5372e-01, -1.3400e-01,\n",
            "        -6.5151e-02, -9.0121e-02,  1.3587e-01, -1.1827e-01, -2.9220e-02,\n",
            "         9.5783e-02,  6.6440e-02, -2.1316e-02, -2.3742e-01, -1.7472e-01,\n",
            "        -7.9916e-01,  4.4483e-02,  2.8405e-01, -2.2308e-02, -5.6764e-02,\n",
            "         1.9825e-01, -2.0279e-01,  3.3376e-01, -5.7932e-02, -2.7878e-01,\n",
            "         4.6813e-01,  2.6236e-01, -9.5878e-02, -1.5614e-01, -1.8900e-01,\n",
            "        -4.5505e-02, -1.4836e-01, -7.0388e-02, -2.5256e-01, -3.6207e-02,\n",
            "        -2.3713e-01,  1.1566e-01, -6.3016e-02, -1.5543e-01, -1.6353e-01,\n",
            "         1.1100e-01, -5.8401e-02, -4.0934e-01, -5.6328e-02, -1.1422e-01,\n",
            "         4.5686e-01,  1.9147e-01, -2.4061e+00, -1.3890e-01,  4.9572e-02,\n",
            "         1.0699e-01,  1.8370e-01, -4.5469e-02, -8.1192e-02, -1.1795e-01,\n",
            "        -1.3250e-01, -3.6430e-02,  2.8795e-01, -7.0326e-02,  9.9012e-02,\n",
            "         7.5754e-02, -8.5288e-02, -2.4368e-02])\n",
            "torch.Size([768])\n"
          ]
        }
      ]
    },
    {
      "cell_type": "markdown",
      "metadata": {
        "pycharm": {
          "name": "#%% md\n"
        },
        "id": "DA2ig6aPPuZF"
      },
      "source": [
        "**We now have a vector of 768 features representing our input sentence.** But we can do more! The BERT paper discusses\n",
        "how they reached the best results by concatenating the output of the last four layers.\n",
        "\n",
        "![BERT embeddings visualization](https://drive.google.com/uc?export=view&id=13OipKA9T5-N5VGnWu7HDLvudSCX0OfSt)\n",
        "\n",
        "In our example, that means that\n",
        "we need to get the last four layers of `hidden_states` and concatenate them after which we can take the mean. We want\n",
        "to concatenate across the axis of the hidden dimensions of `768`. As a consequence, our concatenated output vector will\n",
        "be of size `(1, 5, 3072)` where `3072=4*768`, i.e. the concatenation of four layers with a hidden dimension of 768. The\n",
        "concatenated vector is much larger than the output of only a single layer, meaning that it contains a lot more features.\n",
        "Do note, as usual, that it depends on your specific task whether these `3072` features perform better than `768`.\n",
        "\n",
        "Having a vector of shape `(1, 5, 3072)`, we still need to take the mean over the token dimension, as we did before. We\n",
        "end up with one feature vector of size `(3072,)`."
      ]
    },
    {
      "cell_type": "code",
      "metadata": {
        "pycharm": {
          "is_executing": false,
          "name": "#%%\n"
        },
        "id": "OaOwXYhdPuZF",
        "colab": {
          "base_uri": "https://localhost:8080/"
        },
        "outputId": "4ec0b82a-011e-4ad6-b704-72a5aad48ed5"
      },
      "source": [
        "# get last four layers\n",
        "last_four_layers = [hidden_states[i] for i in (-1, -2, -3, -4)]\n",
        "# cast layers to a tuple and concatenate over the last dimension\n",
        "cat_hidden_states = torch.cat(tuple(last_four_layers), dim=-1)\n",
        "print(cat_hidden_states.size())\n",
        "\n",
        "# take the mean of the concatenated vector over the token dimension\n",
        "cat_sentence_embedding = torch.mean(cat_hidden_states, dim=1).squeeze()\n",
        "print(cat_sentence_embedding)\n",
        "print(cat_sentence_embedding.size())"
      ],
      "execution_count": null,
      "outputs": [
        {
          "output_type": "stream",
          "name": "stdout",
          "text": [
            "torch.Size([1, 5, 3072])\n",
            "tensor([ 0.2750,  0.1831, -0.0887,  ...,  0.2894, -0.0034,  0.0764])\n",
            "torch.Size([3072])\n"
          ]
        }
      ]
    },
    {
      "cell_type": "markdown",
      "metadata": {
        "pycharm": {
          "name": "#%% md\n"
        },
        "id": "G8ONstLBPuZF"
      },
      "source": [
        "## Saving and loading results\n",
        "\n",
        "It is likely that you want to use your generated feature vector in another model or task and just save them to your\n",
        "hard drive. You can easily save a tensor with `torch.save` and load it in another script with `torch.load`. Typically,\n",
        "the `.pt` (PyTorch) extension is used. Note that you cannot read the saved file with a text editor. It is a pickled\n",
        "object which allows for efficient (de)compression. If you do want to save your tensors in a readable format, you can\n",
        "convert a tensor to numpy and using something like `np.savetxt('tensor.txt', your_tensor.numpy())`. I do not recommend\n",
        "that approach (I'd stick with `torch.save` or another compression technique) but it is possible.\n",
        "\n",
        "See how we use `.cpu()`? `cpu()` tells PyTorch that we want to move the output tensor back from the GPU to the CPU.\n",
        "This is not a required step, but I think it is good practice when doing feature extraction to move your data to CPU so\n",
        "that when you load it, it is also loaded as a CPU tensor rather than a CUDA tensor. Afterwards you can still move\n",
        "things to GPU if need be, but using CPU by default seems like a good idea. Note that a tensor has to be on CPU if you\n",
        "want to convert it to `.numpy()`, though."
      ]
    },
    {
      "cell_type": "code",
      "metadata": {
        "pycharm": {
          "is_executing": false,
          "name": "#%%\n"
        },
        "id": "6_wZ2oQXPuZG",
        "colab": {
          "base_uri": "https://localhost:8080/"
        },
        "outputId": "b65987c1-5204-4533-9c60-486e2d615392"
      },
      "source": [
        "# save our created sentence representation\n",
        "torch.save(cat_sentence_embedding.cpu(), 'my_sent_embed.pt')\n",
        "\n",
        "# load it again\n",
        "loaded_tensor = torch.load('my_sent_embed.pt')\n",
        "print(loaded_tensor)\n",
        "print(loaded_tensor.size())\n",
        "\n",
        "# convert it to numpy to use in e.g. sklearn\n",
        "np_loaded_tensor = loaded_tensor.numpy()\n",
        "print(np_loaded_tensor)\n",
        "print(type(np_loaded_tensor))\n"
      ],
      "execution_count": null,
      "outputs": [
        {
          "output_type": "stream",
          "name": "stdout",
          "text": [
            "tensor([ 0.2750,  0.1831, -0.0887,  ...,  0.2894, -0.0034,  0.0764])\n",
            "torch.Size([3072])\n",
            "[ 0.274973    0.18313368 -0.08865061 ...  0.28939354 -0.00340459\n",
            "  0.0763537 ]\n",
            "<class 'numpy.ndarray'>\n"
          ]
        }
      ]
    },
    {
      "cell_type": "code",
      "metadata": {
        "id": "-kf4x5KtWozc"
      },
      "source": [],
      "execution_count": null,
      "outputs": []
    }
  ]
}